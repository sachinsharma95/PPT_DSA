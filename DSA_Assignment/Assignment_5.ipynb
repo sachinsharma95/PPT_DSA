{
  "nbformat": 4,
  "nbformat_minor": 0,
  "metadata": {
    "colab": {
      "provenance": []
    },
    "kernelspec": {
      "name": "python3",
      "display_name": "Python 3"
    },
    "language_info": {
      "name": "python"
    }
  },
  "cells": [
    {
      "cell_type": "code",
      "execution_count": 1,
      "metadata": {
        "colab": {
          "base_uri": "https://localhost:8080/"
        },
        "id": "rfmjwQ__XGwh",
        "outputId": "d44258f4-551f-47c4-d025-1934095adb98"
      },
      "outputs": [
        {
          "output_type": "stream",
          "name": "stdout",
          "text": [
            "[[1, 2], [3, 4]]\n"
          ]
        }
      ],
      "source": [
        "# ANS1\n",
        "\n",
        "def construct2DArray(original, m, n):\n",
        "    if m * n != len(original):\n",
        "        return []  # Return an empty 2D array if it is impossible\n",
        "\n",
        "    return [original[i*n : (i+1)*n] for i in range(m)]\n",
        "\n",
        "# Driver code to test the function\n",
        "original = [1, 2, 3, 4]\n",
        "m = 2\n",
        "n = 2\n",
        "\n",
        "result = construct2DArray(original, m, n)\n",
        "print(result)"
      ]
    },
    {
      "cell_type": "code",
      "source": [
        "# ANS 2\n",
        "\n",
        "def arrangeCoins(n):\n",
        "    left, right = 0, n\n",
        "    while left <= right:\n",
        "        mid = (left + right) // 2\n",
        "        curr = mid * (mid + 1) // 2\n",
        "\n",
        "        if curr == n:\n",
        "            return mid\n",
        "        elif curr < n:\n",
        "            left = mid + 1\n",
        "        else:\n",
        "            right = mid - 1\n",
        "\n",
        "    return right\n",
        "\n",
        "n = 5\n",
        "complete_rows = arrangeCoins(n)\n",
        "print(complete_rows)"
      ],
      "metadata": {
        "colab": {
          "base_uri": "https://localhost:8080/"
        },
        "id": "ne4HSUHDXPVG",
        "outputId": "35a08212-41a9-460a-e0a7-2db5723b3cd8"
      },
      "execution_count": 2,
      "outputs": [
        {
          "output_type": "stream",
          "name": "stdout",
          "text": [
            "2\n"
          ]
        }
      ]
    },
    {
      "cell_type": "code",
      "source": [
        "# ANS 3\n",
        "\n",
        "def sortedSquares(nums):\n",
        "    n = len(nums)\n",
        "    result = [0] * n\n",
        "    left, right = 0, n - 1\n",
        "    idx = n - 1\n",
        "\n",
        "    while left <= right:\n",
        "        if abs(nums[left]) > abs(nums[right]):\n",
        "            result[idx] = nums[left] * nums[left]\n",
        "            left += 1\n",
        "        else:\n",
        "            result[idx] = nums[right] * nums[right]\n",
        "            right -= 1\n",
        "        idx -= 1\n",
        "\n",
        "    return result\n",
        "\n",
        "nums = [-4, -1, 0, 3, 10]\n",
        "squared_nums = sortedSquares(nums)\n",
        "print(squared_nums)"
      ],
      "metadata": {
        "colab": {
          "base_uri": "https://localhost:8080/"
        },
        "id": "0r9cYgfmXS_K",
        "outputId": "61c6c931-58da-4bf6-e7b0-3a3352e368ef"
      },
      "execution_count": 3,
      "outputs": [
        {
          "output_type": "stream",
          "name": "stdout",
          "text": [
            "[0, 1, 9, 16, 100]\n"
          ]
        }
      ]
    },
    {
      "cell_type": "code",
      "source": [
        "# Ans 4\n",
        "\n",
        "def findDisappearedNumbers(nums1, nums2):\n",
        "    set1 = set(nums1)\n",
        "    set2 = set(nums2)\n",
        "\n",
        "    answer1 = list(set1 - set2)\n",
        "    answer2 = list(set2 - set1)\n",
        "\n",
        "    return [answer1, answer2]\n",
        "\n",
        "nums1 = [1, 2, 3]\n",
        "nums2 = [2, 4, 6]\n",
        "result = findDisappearedNumbers(nums1, nums2)\n",
        "print(result)"
      ],
      "metadata": {
        "colab": {
          "base_uri": "https://localhost:8080/"
        },
        "id": "DzvDQbtgXWos",
        "outputId": "66675f52-2184-4c17-a572-9a8d4cf34806"
      },
      "execution_count": 4,
      "outputs": [
        {
          "output_type": "stream",
          "name": "stdout",
          "text": [
            "[[1, 3], [4, 6]]\n"
          ]
        }
      ]
    },
    {
      "cell_type": "code",
      "source": [
        "# ANS 5\n",
        "\n",
        "def findTheDistanceValue(arr1, arr2, d):\n",
        "    distance = 0\n",
        "    for num1 in arr1:\n",
        "        is_valid = True\n",
        "        for num2 in arr2:\n",
        "            if abs(num1 - num2) <= d:\n",
        "                is_valid = False\n",
        "                break\n",
        "        if is_valid:\n",
        "            distance += 1\n",
        "    return distance\n",
        "\n",
        "arr1 = [4, 5, 8]\n",
        "arr2 = [10, 9, 1, 8]\n",
        "d = 2\n",
        "distance = findTheDistanceValue(arr1, arr2, d)\n",
        "print(distance)"
      ],
      "metadata": {
        "colab": {
          "base_uri": "https://localhost:8080/"
        },
        "id": "MaT_5qSfXaLO",
        "outputId": "eed32ecb-d0ac-4987-9657-0b5158eb24a9"
      },
      "execution_count": 5,
      "outputs": [
        {
          "output_type": "stream",
          "name": "stdout",
          "text": [
            "2\n"
          ]
        }
      ]
    },
    {
      "cell_type": "code",
      "source": [
        "# ANS 6\n",
        "\n",
        "def findDuplicates(nums):\n",
        "    duplicates = []\n",
        "    for num in nums:\n",
        "        idx = abs(num) - 1\n",
        "        if nums[idx] < 0:\n",
        "            duplicates.append(abs(num))\n",
        "        else:\n",
        "            nums[idx] *= -1\n",
        "    return duplicates\n",
        "\n",
        "nums = [4, 3, 2, 7, 8, 2, 3, 1]\n",
        "duplicates = findDuplicates(nums)\n",
        "print(duplicates)\n"
      ],
      "metadata": {
        "colab": {
          "base_uri": "https://localhost:8080/"
        },
        "id": "mmzCKLE8XhJI",
        "outputId": "f1805b54-c65a-49a8-ac7d-ddc8984b74bd"
      },
      "execution_count": 6,
      "outputs": [
        {
          "output_type": "stream",
          "name": "stdout",
          "text": [
            "[2, 3]\n"
          ]
        }
      ]
    },
    {
      "cell_type": "code",
      "source": [
        "# ANS 7\n",
        "\n",
        "def findMin(nums):\n",
        "    left = 0\n",
        "    right = len(nums) - 1\n",
        "\n",
        "    while left < right:\n",
        "        mid = left + (right - left) // 2\n",
        "\n",
        "        if nums[mid] > nums[right]:\n",
        "            left = mid + 1\n",
        "        else:\n",
        "            right = mid\n",
        "\n",
        "    return nums[left]\n",
        "\n",
        "nums = [3, 4, 5, 1, 2]\n",
        "min_element = findMin(nums)\n",
        "print(min_element)"
      ],
      "metadata": {
        "colab": {
          "base_uri": "https://localhost:8080/"
        },
        "id": "WuUUVdzjXlGb",
        "outputId": "a7e3054d-049e-431f-93d9-66f8e90197e9"
      },
      "execution_count": 7,
      "outputs": [
        {
          "output_type": "stream",
          "name": "stdout",
          "text": [
            "1\n"
          ]
        }
      ]
    },
    {
      "cell_type": "code",
      "source": [
        "from collections import Counter\n",
        "\n",
        "def findOriginalArray(changed):\n",
        "    counter = Counter(changed)\n",
        "    res = []\n",
        "    for k in counter.keys():\n",
        "\n",
        "        if k == 0:\n",
        "            # handle zero as special case\n",
        "            if counter[k] % 2 > 0:\n",
        "                return []\n",
        "            res += [0] * (counter[k] // 2)\n",
        "\n",
        "        elif counter[k] > 0:\n",
        "            x = k\n",
        "\n",
        "            # walk down the chain\n",
        "            while x % 2 == 0 and x // 2 in counter:\n",
        "                x = x // 2\n",
        "\n",
        "            # walk up and process all numbers within the chain. mark the counts as 0\n",
        "            while x in counter:\n",
        "                if counter[x] > 0:\n",
        "                    res += [x] * counter[x]\n",
        "                    if counter[x+x] < counter[x]:\n",
        "                        return []\n",
        "                    counter[x+x] -= counter[x]\n",
        "                    counter[x] = 0\n",
        "                x += x\n",
        "    return res\n",
        "\n",
        "changed = [1, 3, 4, 2, 6, 8]\n",
        "original = findOriginalArray(changed)\n",
        "print(original)"
      ],
      "metadata": {
        "colab": {
          "base_uri": "https://localhost:8080/"
        },
        "id": "KkVxvUyJXqNk",
        "outputId": "dd5b2f40-dabe-4ea7-c276-d82fc015d94e"
      },
      "execution_count": 8,
      "outputs": [
        {
          "output_type": "stream",
          "name": "stdout",
          "text": [
            "[1, 4, 3]\n"
          ]
        }
      ]
    },
    {
      "cell_type": "code",
      "source": [],
      "metadata": {
        "id": "q3o9zwR-Xti0"
      },
      "execution_count": null,
      "outputs": []
    }
  ]
}