{
  "nbformat": 4,
  "nbformat_minor": 0,
  "metadata": {
    "colab": {
      "provenance": []
    },
    "kernelspec": {
      "name": "python3",
      "display_name": "Python 3"
    },
    "language_info": {
      "name": "python"
    }
  },
  "cells": [
    {
      "cell_type": "code",
      "execution_count": 1,
      "metadata": {
        "colab": {
          "base_uri": "https://localhost:8080/"
        },
        "id": "SMSArmZDZHjc",
        "outputId": "710f582c-95d8-4bbb-aa18-35097bc86825"
      },
      "outputs": [
        {
          "output_type": "stream",
          "name": "stdout",
          "text": [
            "True\n"
          ]
        }
      ],
      "source": [
        "# ANS1\n",
        "\n",
        "def isomorphic_strings(s, t):\n",
        "    if len(s) != len(t):\n",
        "        return False\n",
        "\n",
        "    s_dict = {}\n",
        "    t_dict = {}\n",
        "\n",
        "    for s_char, t_char in zip(s, t):\n",
        "        if s_char not in s_dict and t_char not in t_dict:\n",
        "            s_dict[s_char] = t_char\n",
        "            t_dict[t_char] = s_char\n",
        "        elif s_char in s_dict and s_dict[s_char] != t_char:\n",
        "            return False\n",
        "        elif t_char in t_dict and t_dict[t_char] != s_char:\n",
        "            return False\n",
        "\n",
        "    return True\n",
        "\n",
        "s = \"egg\"\n",
        "t = \"add\"\n",
        "print(isomorphic_strings(s, t))  # Output: True\n"
      ]
    },
    {
      "cell_type": "code",
      "source": [
        "# ANS 2\n",
        "\n",
        "def is_strobogrammatic(num):\n",
        "    left, right = 0, len(num) - 1\n",
        "    strobogrammatic_pairs = {'0': '0', '1': '1', '6': '9', '8': '8', '9': '6'}\n",
        "\n",
        "    while left <= right:\n",
        "        left_char = num[left]\n",
        "        right_char = num[right]\n",
        "\n",
        "        if left_char not in strobogrammatic_pairs or strobogrammatic_pairs[left_char] != right_char:\n",
        "            return False\n",
        "\n",
        "        left += 1\n",
        "        right -= 1\n",
        "\n",
        "    return True\n",
        "\n",
        "num = \"69\"\n",
        "print(is_strobogrammatic(num))  # Output: True"
      ],
      "metadata": {
        "colab": {
          "base_uri": "https://localhost:8080/"
        },
        "id": "4E5SiHG1ZN5x",
        "outputId": "bfe66108-98cf-4192-9543-5ad24a8df5ee"
      },
      "execution_count": 2,
      "outputs": [
        {
          "output_type": "stream",
          "name": "stdout",
          "text": [
            "True\n"
          ]
        }
      ]
    },
    {
      "cell_type": "code",
      "source": [
        "# ANS 3\n",
        "\n",
        "def addStrings(num1, num2):\n",
        "    i = len(num1) - 1\n",
        "    j = len(num2) - 1\n",
        "    carry = 0\n",
        "    result = \"\"\n",
        "\n",
        "    while i >= 0 or j >= 0:\n",
        "        digit1 = int(num1[i]) if i >= 0 else 0\n",
        "        digit2 = int(num2[j]) if j >= 0 else 0\n",
        "        digit_sum = digit1 + digit2 + carry\n",
        "        result = str(digit_sum % 10) + result\n",
        "        carry = digit_sum // 10\n",
        "        i -= 1\n",
        "        j -= 1\n",
        "\n",
        "    if carry > 0:\n",
        "        result = str(carry) + result\n",
        "\n",
        "    return result\n",
        "\n",
        "num1 = \"11\"\n",
        "num2 = \"123\"\n",
        "print(addStrings(num1, num2))  # Output: \"134\""
      ],
      "metadata": {
        "colab": {
          "base_uri": "https://localhost:8080/"
        },
        "id": "ASSpoPLXZU75",
        "outputId": "fcea57a1-c13a-4ca5-b803-69c730488a21"
      },
      "execution_count": 3,
      "outputs": [
        {
          "output_type": "stream",
          "name": "stdout",
          "text": [
            "134\n"
          ]
        }
      ]
    },
    {
      "cell_type": "code",
      "source": [
        "# ANS4\n",
        "\n",
        "def reverseWords(s):\n",
        "    words = s.split()\n",
        "    reversed_words = [word[::-1] for word in words]\n",
        "    return ' '.join(reversed_words)\n",
        "\n",
        "s = \"Let's take LeetCode contest\"\n",
        "print(reverseWords(s))  # Output: \"s'teL ekat edoCteeL tsetnoc\""
      ],
      "metadata": {
        "colab": {
          "base_uri": "https://localhost:8080/"
        },
        "id": "xCYWa1QSZZxn",
        "outputId": "4fab4163-2967-4890-87cd-6997a868a176"
      },
      "execution_count": 7,
      "outputs": [
        {
          "output_type": "stream",
          "name": "stdout",
          "text": [
            "s'teL ekat edoCteeL tsetnoc\n"
          ]
        }
      ]
    },
    {
      "cell_type": "code",
      "source": [
        "# ANS 5\n",
        "\n",
        "\n",
        "\n",
        "def reverseStr(s, k):\n",
        "    chars = list(s)\n",
        "    n = len(chars)\n",
        "\n",
        "    for i in range(0, n, 2 * k):\n",
        "        start = i\n",
        "        end = min(i + k, n)  # Handle case when remaining characters are less than k\n",
        "        chars[start:end] = reversed(chars[start:end])\n",
        "\n",
        "    return ''.join(chars)\n",
        "\n",
        "s = \"abcdefg\"\n",
        "k = 2\n",
        "print(reverseStr(s, k))  # Output: \"bacdfeg\""
      ],
      "metadata": {
        "colab": {
          "base_uri": "https://localhost:8080/"
        },
        "id": "klgIHtQSZeLC",
        "outputId": "1829fba3-b7bd-4e31-aa10-daf500a2ad3f"
      },
      "execution_count": 5,
      "outputs": [
        {
          "output_type": "stream",
          "name": "stdout",
          "text": [
            "bacdfeg\n"
          ]
        }
      ]
    },
    {
      "cell_type": "code",
      "source": [
        "# ANS 6\n",
        "\n",
        "def rotateString(s, goal):\n",
        "    if len(s) != len(goal):\n",
        "        return False\n",
        "\n",
        "    s_double = s + s\n",
        "    if goal in s_double:\n",
        "        return True\n",
        "    else:\n",
        "        return False\n",
        "\n",
        "s = \"abcde\"\n",
        "goal = \"cdeab\"\n",
        "print(rotateString(s, goal))  # Output: True\n"
      ],
      "metadata": {
        "colab": {
          "base_uri": "https://localhost:8080/"
        },
        "id": "DMOg2OQ7ZhF5",
        "outputId": "020a5deb-9393-4aad-ce45-468f1dd65f43"
      },
      "execution_count": 6,
      "outputs": [
        {
          "output_type": "stream",
          "name": "stdout",
          "text": [
            "True\n"
          ]
        }
      ]
    },
    {
      "cell_type": "code",
      "source": [
        "# Ans 7\n",
        "\n",
        "\n",
        "def process_string(s):\n",
        "    stack = []\n",
        "    for c in s:\n",
        "        if c != '#':\n",
        "            stack.append(c)\n",
        "        elif stack:\n",
        "            stack.pop()\n",
        "    return ''.join(stack)\n",
        "\n",
        "def backspaceCompare(s, t):\n",
        "    processed_s = process_string(s)\n",
        "    processed_t = process_string(t)\n",
        "    return processed_s == processed_t\n",
        "\n",
        "s = \"ab#c\"\n",
        "t = \"ad#c\"\n",
        "print(backspaceCompare(s, t))  # Output: True\n"
      ],
      "metadata": {
        "colab": {
          "base_uri": "https://localhost:8080/"
        },
        "id": "ABSktFnoZkdn",
        "outputId": "44e8bd2e-a26f-469c-a04e-25267fff56ee"
      },
      "execution_count": 8,
      "outputs": [
        {
          "output_type": "stream",
          "name": "stdout",
          "text": [
            "True\n"
          ]
        }
      ]
    },
    {
      "cell_type": "code",
      "source": [
        "# ANS 8\n",
        "\n",
        "def checkStraightLine(coordinates):\n",
        "    if len(coordinates) < 3:\n",
        "        return True\n",
        "\n",
        "    x0, y0 = coordinates[0]\n",
        "    dx0, dy0 = coordinates[1][0] - x0, coordinates[1][1] - y0\n",
        "\n",
        "    for i in range(2, len(coordinates)):\n",
        "        x, y = coordinates[i]\n",
        "        dx, dy = x - x0, y - y0\n",
        "\n",
        "        if dx0 * dy != dy0 * dx:\n",
        "            return False\n",
        "\n",
        "    return True\n",
        "\n",
        "coordinates = [[1,2],[2,3],[3,4],[4,5],[5,6],[6,7]]\n",
        "print(checkStraightLine(coordinates))  # Output: True"
      ],
      "metadata": {
        "colab": {
          "base_uri": "https://localhost:8080/"
        },
        "id": "c0oe2p39ZtjM",
        "outputId": "eb721a08-9874-4dc5-ce86-2385635ddb58"
      },
      "execution_count": 9,
      "outputs": [
        {
          "output_type": "stream",
          "name": "stdout",
          "text": [
            "True\n"
          ]
        }
      ]
    },
    {
      "cell_type": "code",
      "source": [],
      "metadata": {
        "id": "YYh77TEcZzPf"
      },
      "execution_count": null,
      "outputs": []
    }
  ]
}