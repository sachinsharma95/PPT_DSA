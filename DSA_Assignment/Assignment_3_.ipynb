{
  "nbformat": 4,
  "nbformat_minor": 0,
  "metadata": {
    "colab": {
      "provenance": []
    },
    "kernelspec": {
      "name": "python3",
      "display_name": "Python 3"
    },
    "language_info": {
      "name": "python"
    }
  },
  "cells": [
    {
      "cell_type": "markdown",
      "source": [
        "#Ans 1"
      ],
      "metadata": {
        "id": "5hRBCrGTU4pt"
      }
    },
    {
      "cell_type": "code",
      "execution_count": 1,
      "metadata": {
        "colab": {
          "base_uri": "https://localhost:8080/"
        },
        "id": "WcwodRzgS9lI",
        "outputId": "4f489941-ce41-41f6-ddab-099eebb8e1bc"
      },
      "outputs": [
        {
          "output_type": "stream",
          "name": "stdout",
          "text": [
            "2\n"
          ]
        }
      ],
      "source": [
        "# ANS1\n",
        "\n",
        "\n",
        "def threeSumClosest(nums, target):\n",
        "    nums.sort()  # Sort the input array\n",
        "    closest_sum = float('inf')  # Initialize the closest sum to infinity\n",
        "\n",
        "    for i in range(len(nums)-2):\n",
        "        left = i + 1  # Pointer for the element to the right of nums[i]\n",
        "        right = len(nums) - 1  # Pointer for the last element in the array\n",
        "\n",
        "        while left < right:\n",
        "            current_sum = nums[i] + nums[left] + nums[right]  # Calculate the current sum\n",
        "\n",
        "            if current_sum == target:\n",
        "                return current_sum  # Return the sum if it equals the target exactly\n",
        "\n",
        "            if abs(current_sum - target) < abs(closest_sum - target):\n",
        "                closest_sum = current_sum  # Update the closest sum if necessary\n",
        "\n",
        "            if current_sum < target:\n",
        "                left += 1  # Move the left pointer to the right\n",
        "            else:\n",
        "                right -= 1  # Move the right pointer to the left\n",
        "\n",
        "    return closest_sum\n",
        "\n",
        "\n",
        "# Driver code\n",
        "nums = [-1, 2, 1, -4]\n",
        "target = 1\n",
        "result = threeSumClosest(nums, target)\n",
        "print(result)"
      ]
    },
    {
      "cell_type": "markdown",
      "source": [
        "# ANS 2"
      ],
      "metadata": {
        "id": "0GVJ2PL2UNsk"
      }
    },
    {
      "cell_type": "code",
      "source": [
        "def fourSum(nums, target):\n",
        "    nums.sort()  # Sort the input array\n",
        "    quadruplets = []\n",
        "    n = len(nums)\n",
        "\n",
        "    for a in range(n - 3):\n",
        "        # Skip duplicate values for 'a'\n",
        "        if a > 0 and nums[a] == nums[a - 1]:\n",
        "            continue\n",
        "\n",
        "        for b in range(a + 1, n - 2):\n",
        "            # Skip duplicate values for 'b'\n",
        "            if b > a + 1 and nums[b] == nums[b - 1]:\n",
        "                continue\n",
        "\n",
        "            left = b + 1  # Pointer for the element to the right of nums[b]\n",
        "            right = n - 1  # Pointer for the last element in the array\n",
        "\n",
        "            while left < right:\n",
        "                current_sum = nums[a] + nums[b] + nums[left] + nums[right]\n",
        "\n",
        "                if current_sum == target:\n",
        "                    quadruplets.append([nums[a], nums[b], nums[left], nums[right]])\n",
        "\n",
        "                    # Skip duplicate values for 'left' and 'right'\n",
        "                    while left < right and nums[left] == nums[left + 1]:\n",
        "                        left += 1\n",
        "                    while left < right and nums[right] == nums[right - 1]:\n",
        "                        right -= 1\n",
        "\n",
        "                    left += 1\n",
        "                    right -= 1\n",
        "\n",
        "                elif current_sum < target:\n",
        "                    left += 1\n",
        "                else:\n",
        "                    right -= 1\n",
        "\n",
        "    return quadruplets\n",
        "\n",
        "\n",
        "# Driver code\n",
        "nums = [1, 0, -1, 0, -2, 2]\n",
        "target = 0\n",
        "result = fourSum(nums, target)\n",
        "print(result)"
      ],
      "metadata": {
        "colab": {
          "base_uri": "https://localhost:8080/"
        },
        "id": "lCLR_wicUGiI",
        "outputId": "e2b2a039-1f91-4d6f-d43f-693ccd7cbf08"
      },
      "execution_count": 2,
      "outputs": [
        {
          "output_type": "stream",
          "name": "stdout",
          "text": [
            "[[-2, -1, 1, 2], [-2, 0, 0, 2], [-1, 0, 0, 1]]\n"
          ]
        }
      ]
    },
    {
      "cell_type": "markdown",
      "source": [
        "# ANS 3\n"
      ],
      "metadata": {
        "id": "49LJPqrOUP9y"
      }
    },
    {
      "cell_type": "code",
      "source": [
        "def nextPermutation(nums):\n",
        "    # Find the first decreasing element from the right\n",
        "    i = len(nums) - 2\n",
        "    while i >= 0 and nums[i] >= nums[i + 1]:\n",
        "        i -= 1\n",
        "\n",
        "    if i >= 0:\n",
        "        # Find the smallest element larger than nums[i]\n",
        "        j = len(nums) - 1\n",
        "        while j > i and nums[j] <= nums[i]:\n",
        "            j -= 1\n",
        "        # Swap nums[i] and nums[j]\n",
        "        nums[i], nums[j] = nums[j], nums[i]\n",
        "\n",
        "    # Reverse the remaining elements after i\n",
        "    left = i + 1\n",
        "    right = len(nums) - 1\n",
        "    while left < right:\n",
        "        nums[left], nums[right] = nums[right], nums[left]\n",
        "        left += 1\n",
        "        right -= 1\n",
        "\n",
        "\n",
        "# Driver code\n",
        "nums = [1, 2, 3]\n",
        "nextPermutation(nums)\n",
        "print(nums)"
      ],
      "metadata": {
        "colab": {
          "base_uri": "https://localhost:8080/"
        },
        "id": "kpg1qhonUKfY",
        "outputId": "e35f4062-b675-4066-a35b-64fc4d5ed3a3"
      },
      "execution_count": 3,
      "outputs": [
        {
          "output_type": "stream",
          "name": "stdout",
          "text": [
            "[1, 3, 2]\n"
          ]
        }
      ]
    },
    {
      "cell_type": "markdown",
      "source": [
        "# ANS 4\n",
        "\n"
      ],
      "metadata": {
        "id": "9LQt5CsjUUhk"
      }
    },
    {
      "cell_type": "code",
      "source": [
        "def searchInsert(nums, target):\n",
        "    left = 0\n",
        "    right = len(nums) - 1\n",
        "\n",
        "    while left <= right:\n",
        "        mid = left + (right - left) // 2\n",
        "\n",
        "        if nums[mid] == target:\n",
        "            return mid\n",
        "        elif nums[mid] < target:\n",
        "            left = mid + 1\n",
        "        else:\n",
        "            right = mid - 1\n",
        "\n",
        "    return left\n",
        "\n",
        "\n",
        "# Driver code\n",
        "nums = [1, 3, 5, 6]\n",
        "target = 5\n",
        "index = searchInsert(nums, target)\n",
        "print(index)"
      ],
      "metadata": {
        "colab": {
          "base_uri": "https://localhost:8080/"
        },
        "id": "nbmOS9A_UTiI",
        "outputId": "a4a2f5c0-77f1-4547-e70a-71bb4c16efc0"
      },
      "execution_count": 4,
      "outputs": [
        {
          "output_type": "stream",
          "name": "stdout",
          "text": [
            "2\n"
          ]
        }
      ]
    },
    {
      "cell_type": "markdown",
      "source": [
        "# ANS 5\n",
        "\n"
      ],
      "metadata": {
        "id": "E-UFI9QaUZKb"
      }
    },
    {
      "cell_type": "code",
      "source": [
        "def plusOne(digits):\n",
        "    n = len(digits)\n",
        "\n",
        "    # Iterate through the digits from right to left\n",
        "    for i in range(n - 1, -1, -1):\n",
        "        if digits[i] < 9:\n",
        "            # If the current digit is less than 9, increment it and return the digits\n",
        "            digits[i] += 1\n",
        "            return digits\n",
        "        else:\n",
        "            # If the current digit is 9, set it to 0 and continue to the next digit\n",
        "            digits[i] = 0\n",
        "\n",
        "    # If all digits are 9, we need an additional digit at the beginning\n",
        "    digits.insert(0, 1)\n",
        "    return digits\n",
        "\n",
        "\n",
        "# Driver code\n",
        "digits = [1, 2, 3]\n",
        "result = plusOne(digits)\n",
        "print(result)"
      ],
      "metadata": {
        "colab": {
          "base_uri": "https://localhost:8080/"
        },
        "id": "KSEJSPwHUYNX",
        "outputId": "0e810ec5-87a2-41ef-b509-c6bdcc1124d7"
      },
      "execution_count": 5,
      "outputs": [
        {
          "output_type": "stream",
          "name": "stdout",
          "text": [
            "[1, 2, 4]\n"
          ]
        }
      ]
    },
    {
      "cell_type": "markdown",
      "source": [
        "# ANS 6\n",
        "\n"
      ],
      "metadata": {
        "id": "X3k3pzvmUd2-"
      }
    },
    {
      "cell_type": "code",
      "source": [
        "def singleNumber(nums):\n",
        "    result = 0\n",
        "\n",
        "    for num in nums:\n",
        "        result ^= num\n",
        "\n",
        "    return result\n",
        "\n",
        "\n",
        "# Driver code\n",
        "nums = [2, 2, 1]\n",
        "result = singleNumber(nums)\n",
        "print(result)"
      ],
      "metadata": {
        "colab": {
          "base_uri": "https://localhost:8080/"
        },
        "id": "ocwe2YqqUcwc",
        "outputId": "7898ef26-effc-4bc1-f2ff-b12979db461b"
      },
      "execution_count": 6,
      "outputs": [
        {
          "output_type": "stream",
          "name": "stdout",
          "text": [
            "1\n"
          ]
        }
      ]
    },
    {
      "cell_type": "markdown",
      "source": [
        "# ANS 7\n"
      ],
      "metadata": {
        "id": "eQKLdbNFUjgM"
      }
    },
    {
      "cell_type": "code",
      "source": [
        "def findMissingRanges(nums, lower, upper):\n",
        "    ranges = []\n",
        "    start = lower\n",
        "\n",
        "    for num in nums:\n",
        "        if num > start:\n",
        "            # If there is a missing number between start and num - 1, create a range\n",
        "            ranges.append(getRange(start, num - 1))\n",
        "        start = num + 1\n",
        "\n",
        "    # Check for missing numbers after the last element of nums\n",
        "    if start <= upper:\n",
        "        ranges.append(getRange(start, upper))\n",
        "\n",
        "    return ranges\n",
        "\n",
        "\n",
        "def getRange(start, end):\n",
        "    # Helper function to format the range in the required format\n",
        "    if start == end:\n",
        "        return str(start)\n",
        "    else:\n",
        "        return str(start) + \"->\" + str(end)\n",
        "\n",
        "\n",
        "# Driver code\n",
        "nums = [0, 1, 3, 50, 75]\n",
        "lower = 0\n",
        "upper = 99\n",
        "result = findMissingRanges(nums, lower, upper)\n",
        "print(result)"
      ],
      "metadata": {
        "colab": {
          "base_uri": "https://localhost:8080/"
        },
        "id": "A1j7bIMFUhor",
        "outputId": "0b739948-22b4-46f0-9c6b-850658199886"
      },
      "execution_count": 7,
      "outputs": [
        {
          "output_type": "stream",
          "name": "stdout",
          "text": [
            "['2', '4->49', '51->74', '76->99']\n"
          ]
        }
      ]
    },
    {
      "cell_type": "markdown",
      "source": [
        "# ANS 8\n",
        "\n"
      ],
      "metadata": {
        "id": "jlQcOqsMUuUW"
      }
    },
    {
      "cell_type": "code",
      "source": [
        "def canAttendMeetings(intervals):\n",
        "    intervals.sort(key=lambda x: x[0])  # Sort the intervals based on the start time\n",
        "\n",
        "    for i in range(1, len(intervals)):\n",
        "        if intervals[i][0] < intervals[i-1][1]:\n",
        "            # If the start time of the current interval is less than the end time of the previous interval,\n",
        "            # there is an overlap, so the person cannot attend all meetings\n",
        "            return False\n",
        "\n",
        "    return True\n",
        "\n",
        "\n",
        "# Driver code\n",
        "intervals = [[0, 30], [5, 10], [15, 20]]\n",
        "result = canAttendMeetings(intervals)\n",
        "print(result)"
      ],
      "metadata": {
        "colab": {
          "base_uri": "https://localhost:8080/"
        },
        "id": "Aa1x0L4pUoCl",
        "outputId": "b6f107a7-b54f-495c-d288-d72123107f06"
      },
      "execution_count": 8,
      "outputs": [
        {
          "output_type": "stream",
          "name": "stdout",
          "text": [
            "False\n"
          ]
        }
      ]
    },
    {
      "cell_type": "code",
      "source": [],
      "metadata": {
        "id": "vr2XhnbHUydx"
      },
      "execution_count": null,
      "outputs": []
    }
  ]
}