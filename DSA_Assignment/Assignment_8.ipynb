{
  "nbformat": 4,
  "nbformat_minor": 0,
  "metadata": {
    "colab": {
      "provenance": []
    },
    "kernelspec": {
      "name": "python3",
      "display_name": "Python 3"
    },
    "language_info": {
      "name": "python"
    }
  },
  "cells": [
    {
      "cell_type": "code",
      "execution_count": 1,
      "metadata": {
        "colab": {
          "base_uri": "https://localhost:8080/"
        },
        "id": "66St7LknZ6u1",
        "outputId": "b50139e9-cf0b-4e56-c9ed-9991139a5d30"
      },
      "outputs": [
        {
          "output_type": "stream",
          "name": "stdout",
          "text": [
            "231\n"
          ]
        }
      ],
      "source": [
        "# ANS 1\n",
        "\n",
        "\n",
        "def minimumDeleteSum(s1, s2):\n",
        "    m, n = len(s1), len(s2)\n",
        "    dp = [[0] * (n + 1) for _ in range(m + 1)]\n",
        "\n",
        "    # Initialize the first row and the first column\n",
        "    for i in range(1, m + 1):\n",
        "        dp[i][0] = dp[i-1][0] + ord(s1[i-1])\n",
        "    for j in range(1, n + 1):\n",
        "        dp[0][j] = dp[0][j-1] + ord(s2[j-1])\n",
        "\n",
        "    # Fill in the rest of the array\n",
        "    for i in range(1, m + 1):\n",
        "        for j in range(1, n + 1):\n",
        "            if s1[i-1] == s2[j-1]:\n",
        "                dp[i][j] = dp[i-1][j-1]\n",
        "            else:\n",
        "                dp[i][j] = min(dp[i-1][j] + ord(s1[i-1]), dp[i][j-1] + ord(s2[j-1]))\n",
        "\n",
        "    return dp[m][n]\n",
        "\n",
        "s1 = \"sea\"\n",
        "s2 = \"eat\"\n",
        "result = minimumDeleteSum(s1, s2)\n",
        "print(result)  # Output: 231"
      ]
    },
    {
      "cell_type": "code",
      "source": [
        "# ANS 2\n",
        "\n",
        "def isValid(s):\n",
        "    stack = []\n",
        "\n",
        "    for c in s:\n",
        "        if c == '(' or c == '*':\n",
        "            stack.append(c)\n",
        "        elif c == ')':\n",
        "            if not stack:\n",
        "                return False\n",
        "            if stack[-1] == '(':\n",
        "                stack.pop()\n",
        "            elif stack[-1] == '*':\n",
        "                stack.pop()\n",
        "                if stack and stack[-1] == '(':\n",
        "                    stack.pop()\n",
        "\n",
        "    while stack and stack[-1] == '(':\n",
        "        if len(stack) < 2:\n",
        "            return False\n",
        "        stack.pop()\n",
        "        stack.pop()\n",
        "\n",
        "    return not stack\n",
        "s = \"()\"\n",
        "result = isValid(s)\n",
        "print(result)  # Output: True"
      ],
      "metadata": {
        "colab": {
          "base_uri": "https://localhost:8080/"
        },
        "id": "8xDW-XksZ-89",
        "outputId": "301d5675-8f23-43b6-9ead-caff176a4838"
      },
      "execution_count": 2,
      "outputs": [
        {
          "output_type": "stream",
          "name": "stdout",
          "text": [
            "True\n"
          ]
        }
      ]
    },
    {
      "cell_type": "code",
      "source": [
        "# ANS3\n",
        "\n",
        "\n",
        "def minDistance(word1, word2):\n",
        "    m, n = len(word1), len(word2)\n",
        "    dp = [[0] * (n + 1) for _ in range(m + 1)]\n",
        "\n",
        "    # Initialize the first row and the first column\n",
        "    for i in range(1, m + 1):\n",
        "        dp[i][0] = dp[i-1][0] + 1\n",
        "    for j in range(1, n + 1):\n",
        "        dp[0][j] = dp[0][j-1] + 1\n",
        "\n",
        "    # Fill in the rest of the array\n",
        "    for i in range(1, m + 1):\n",
        "        for j in range(1, n + 1):\n",
        "            if word1[i-1] == word2[j-1]:\n",
        "                dp[i][j] = dp[i-1][j-1]\n",
        "            else:\n",
        "                dp[i][j] = min(dp[i-1][j] + 1, dp[i][j-1] + 1)\n",
        "\n",
        "    return dp[m][n]\n",
        "word1 = \"sea\"\n",
        "word2 = \"eat\"\n",
        "result = minDistance(word1, word2)\n",
        "print(result)  # Output: 2"
      ],
      "metadata": {
        "colab": {
          "base_uri": "https://localhost:8080/"
        },
        "id": "pBNIEk7kaDwR",
        "outputId": "36610e1a-ac7b-48dd-ec05-0eb4d9fbcc26"
      },
      "execution_count": 3,
      "outputs": [
        {
          "output_type": "stream",
          "name": "stdout",
          "text": [
            "2\n"
          ]
        }
      ]
    },
    {
      "cell_type": "code",
      "source": [
        "# ANS 4\n",
        "\n",
        "class TreeNode:\n",
        "    def __init__(self, val=0, left=None, right=None):\n",
        "        self.val = val\n",
        "        self.left = left\n",
        "        self.right = right\n",
        "\n",
        "\n",
        "def constructTree(s):\n",
        "    if not s:\n",
        "        return None\n",
        "\n",
        "    opening = s.find('(')\n",
        "\n",
        "    if opening == -1:\n",
        "        return TreeNode(int(s))\n",
        "\n",
        "    value = int(s[:opening])\n",
        "    root = TreeNode(value)\n",
        "\n",
        "    closing = findClosingParenthesis(s, opening)\n",
        "\n",
        "    root.left = constructTree(s[opening+1:closing])\n",
        "    root.right = constructTree(s[closing+2:-1])\n",
        "\n",
        "    return root\n",
        "\n",
        "\n",
        "def findClosingParenthesis(s, opening):\n",
        "    count = 1\n",
        "    closing = opening + 1\n",
        "\n",
        "    while count > 0:\n",
        "        if s[closing] == '(':\n",
        "            count += 1\n",
        "        elif s[closing] == ')':\n",
        "            count -= 1\n",
        "        closing += 1\n",
        "\n",
        "    return closing - 1\n",
        "\n",
        "\n",
        "# Test the function with the given example\n",
        "s = \"4(2(3)(1))(6(5))\"\n",
        "root = constructTree(s)\n",
        "\n",
        "# Function to print the values of the tree in in-order traversal\n",
        "def inorderTraversal(root):\n",
        "    if root:\n",
        "        inorderTraversal(root.left)\n",
        "        print(root.val, end=' ')\n",
        "        inorderTraversal(root.right)\n",
        "\n",
        "# Print the tree in in-order traversal\n",
        "inorderTraversal(root)"
      ],
      "metadata": {
        "colab": {
          "base_uri": "https://localhost:8080/"
        },
        "id": "uIDItjmqaHIH",
        "outputId": "da537b85-7737-47a3-de56-c4554b0d290c"
      },
      "execution_count": 4,
      "outputs": [
        {
          "output_type": "stream",
          "name": "stdout",
          "text": [
            "3 2 1 4 5 6 "
          ]
        }
      ]
    },
    {
      "cell_type": "code",
      "source": [
        "# ANS 5\n",
        "\n",
        "\n",
        "def compress(chars):\n",
        "    readPtr = writePtr = 0\n",
        "    count = 1\n",
        "\n",
        "    for i in range(1, len(chars)):\n",
        "        if chars[i] == chars[i-1]:\n",
        "            count += 1\n",
        "        if chars[i] != chars[i-1] or i == len(chars) - 1:\n",
        "            chars[writePtr] = chars[readPtr]\n",
        "            writePtr += 1\n",
        "            if count > 1:\n",
        "                digits = str(count)\n",
        "                for digit in digits:\n",
        "                    chars[writePtr] = digit\n",
        "                    writePtr += 1\n",
        "            count = 1\n",
        "            readPtr = i\n",
        "\n",
        "    return writePtr\n",
        "chars = [\"a\", \"a\", \"b\", \"b\", \"c\", \"c\", \"c\"]\n",
        "result = compress(chars)\n",
        "print(result)  # Output: 6\n",
        "print(chars[:result])  # Output: [\"a\", \"2\", \"b\", \"2\", \"c\", \"3\"]"
      ],
      "metadata": {
        "colab": {
          "base_uri": "https://localhost:8080/"
        },
        "id": "FfOndufKaKdj",
        "outputId": "5036f998-f718-4afa-ac18-86a9b12e862d"
      },
      "execution_count": 5,
      "outputs": [
        {
          "output_type": "stream",
          "name": "stdout",
          "text": [
            "6\n",
            "['a', '2', 'b', '2', 'c', '3']\n"
          ]
        }
      ]
    },
    {
      "cell_type": "code",
      "source": [
        "# ANS 6\n",
        "\n",
        "from collections import Counter\n",
        "\n",
        "def findAnagrams(s, p):\n",
        "    result = []\n",
        "    freqP = Counter(p)\n",
        "    freqWindow = Counter()\n",
        "\n",
        "    start, end = 0, 0\n",
        "    windowSize = len(p)\n",
        "    sSize = len(s)\n",
        "\n",
        "    while end < sSize:\n",
        "        freqWindow[s[end]] += 1\n",
        "\n",
        "        if end - start + 1 == windowSize:\n",
        "            if freqWindow == freqP:\n",
        "                result.append(start)\n",
        "            freqWindow[s[start]] -= 1\n",
        "            if freqWindow[s[start]] == 0:\n",
        "                del freqWindow[s[start]]\n",
        "            start += 1\n",
        "\n",
        "        end += 1\n",
        "\n",
        "    return result\n",
        "s = \"cbaebabacd\"\n",
        "p = \"abc\"\n",
        "result = findAnagrams(s, p)\n",
        "print(result)  # Output: [0, 6]\n"
      ],
      "metadata": {
        "colab": {
          "base_uri": "https://localhost:8080/"
        },
        "id": "peUDfrmLaSCN",
        "outputId": "3d579d4e-a24e-436b-a334-29e578de0132"
      },
      "execution_count": 6,
      "outputs": [
        {
          "output_type": "stream",
          "name": "stdout",
          "text": [
            "[0, 6]\n"
          ]
        }
      ]
    },
    {
      "cell_type": "code",
      "source": [
        "# Ans 7\n",
        "\n",
        "def decodeString(s: str) -> str:\n",
        "    stack = []\n",
        "    for c in range(len(s)):\n",
        "        if s[c] != ']':\n",
        "            stack.append(s[c])\n",
        "        else:\n",
        "            string = ''\n",
        "            num = ''\n",
        "            while stack[-1] != '[':\n",
        "                string = stack.pop() + string\n",
        "            stack.pop()\n",
        "            while stack and stack[-1].isdigit():\n",
        "                num = stack.pop() + num\n",
        "            stack.append(int(num) * string)\n",
        "            # print(num)\n",
        "    return \"\".join(stack)  # Reverse the order of characters in the stack\n",
        "\n",
        "\n",
        "# Test the function with the provided example\n",
        "s = \"3[a]2[bc]\"\n",
        "result = decodeString(s)\n",
        "print(result)  # Output: \"aaabcbc\"\n"
      ],
      "metadata": {
        "colab": {
          "base_uri": "https://localhost:8080/"
        },
        "id": "spG1MH6maVWh",
        "outputId": "3ed020bd-1ba8-4eb5-8eb5-b5305014d527"
      },
      "execution_count": 7,
      "outputs": [
        {
          "output_type": "stream",
          "name": "stdout",
          "text": [
            "aaabcbc\n"
          ]
        }
      ]
    },
    {
      "cell_type": "code",
      "source": [
        "# ANS 8\n",
        "\n",
        "\n",
        "def canSwapString(s, goal):\n",
        "    if len(s) != len(goal):\n",
        "        return False\n",
        "\n",
        "    differences = []\n",
        "    indices = []\n",
        "\n",
        "    for i, c in enumerate(s):\n",
        "        if c != goal[i]:\n",
        "            differences.append(c)\n",
        "            indices.append(i)\n",
        "\n",
        "    if len(differences) != 2:\n",
        "        return False\n",
        "\n",
        "    i, j = indices\n",
        "    return s[i] == goal[j] and s[j] == goal[i]\n",
        "\n",
        "\n",
        "# Test the function with the provided example\n",
        "s = \"ab\"\n",
        "goal = \"ba\"\n",
        "result = canSwapString(s, goal)\n",
        "print(result)  # Output: True\n"
      ],
      "metadata": {
        "colab": {
          "base_uri": "https://localhost:8080/"
        },
        "id": "KW4qE8i_aa27",
        "outputId": "60abff33-8e14-4916-c590-d839dd471ff3"
      },
      "execution_count": 8,
      "outputs": [
        {
          "output_type": "stream",
          "name": "stdout",
          "text": [
            "True\n"
          ]
        }
      ]
    },
    {
      "cell_type": "code",
      "source": [],
      "metadata": {
        "id": "jbqu__RvaeKv"
      },
      "execution_count": null,
      "outputs": []
    }
  ]
}