{
  "nbformat": 4,
  "nbformat_minor": 0,
  "metadata": {
    "colab": {
      "provenance": []
    },
    "kernelspec": {
      "name": "python3",
      "display_name": "Python 3"
    },
    "language_info": {
      "name": "python"
    }
  },
  "cells": [
    {
      "cell_type": "markdown",
      "source": [
        "# ANS 1\n"
      ],
      "metadata": {
        "id": "tLqXW1agVMUX"
      }
    },
    {
      "cell_type": "code",
      "execution_count": 1,
      "metadata": {
        "colab": {
          "base_uri": "https://localhost:8080/"
        },
        "id": "XTKoZCbKVJXd",
        "outputId": "598aa17a-1b0d-44da-aef2-e7d3b0e9acc4"
      },
      "outputs": [
        {
          "output_type": "stream",
          "name": "stdout",
          "text": [
            "[1, 5]\n"
          ]
        }
      ],
      "source": [
        "def find_common_elements(arr1, arr2, arr3):\n",
        "    p1, p2, p3 = 0, 0, 0\n",
        "    result = []\n",
        "\n",
        "    while p1 < len(arr1) and p2 < len(arr2) and p3 < len(arr3):\n",
        "        if arr1[p1] == arr2[p2] == arr3[p3]:\n",
        "            result.append(arr1[p1])\n",
        "            p1 += 1\n",
        "            p2 += 1\n",
        "            p3 += 1\n",
        "        else:\n",
        "            min_val = min(arr1[p1], arr2[p2], arr3[p3])\n",
        "            if arr1[p1] == min_val:\n",
        "                p1 += 1\n",
        "            if arr2[p2] == min_val:\n",
        "                p2 += 1\n",
        "            if arr3[p3] == min_val:\n",
        "                p3 += 1\n",
        "\n",
        "    return result\n",
        "\n",
        "arr1 = [1, 2, 3, 4, 5]\n",
        "arr2 = [1, 2, 5, 7, 9]\n",
        "arr3 = [1, 3, 4, 5, 8]\n",
        "\n",
        "result = find_common_elements(arr1, arr2, arr3)\n",
        "print(result)"
      ]
    },
    {
      "cell_type": "markdown",
      "source": [
        "# ANS 2"
      ],
      "metadata": {
        "id": "VqQD9_6hVP4o"
      }
    },
    {
      "cell_type": "code",
      "source": [
        "def find_disjoint_lists(nums1, nums2):\n",
        "    set1 = set(nums1)\n",
        "    set2 = set(nums2)\n",
        "\n",
        "    distinct_nums1 = list(set1 - set2)\n",
        "    distinct_nums2 = list(set2 - set1)\n",
        "\n",
        "    return [distinct_nums1, distinct_nums2]\n",
        "\n",
        "\n",
        "# Driver code\n",
        "nums1 = [1, 2, 3]\n",
        "nums2 = [2, 4, 6]\n",
        "result = find_disjoint_lists(nums1, nums2)\n",
        "print(result)"
      ],
      "metadata": {
        "colab": {
          "base_uri": "https://localhost:8080/"
        },
        "id": "VLWJyUNeVOOA",
        "outputId": "96453067-fe19-480b-d133-8ad33612b0da"
      },
      "execution_count": 2,
      "outputs": [
        {
          "output_type": "stream",
          "name": "stdout",
          "text": [
            "[[1, 3], [4, 6]]\n"
          ]
        }
      ]
    },
    {
      "cell_type": "markdown",
      "source": [
        "# ANS 3"
      ],
      "metadata": {
        "id": "Zk2PFWv5VT_r"
      }
    },
    {
      "cell_type": "code",
      "source": [
        "def transpose(matrix):\n",
        "    rows = len(matrix)\n",
        "    cols = len(matrix[0])\n",
        "\n",
        "    transposed_matrix = [[0] * rows for _ in range(cols)]\n",
        "\n",
        "    for i in range(rows):\n",
        "        for j in range(cols):\n",
        "            transposed_matrix[j][i] = matrix[i][j]\n",
        "\n",
        "    return transposed_matrix\n",
        "\n",
        "\n",
        "# Driver code\n",
        "matrix = [[1, 2, 3], [4, 5, 6], [7, 8, 9]]\n",
        "result = transpose(matrix)\n",
        "print(result)"
      ],
      "metadata": {
        "colab": {
          "base_uri": "https://localhost:8080/"
        },
        "id": "IPyndpKdVTJo",
        "outputId": "4c001a43-2a33-45fd-8ff8-6e028219f8b5"
      },
      "execution_count": 3,
      "outputs": [
        {
          "output_type": "stream",
          "name": "stdout",
          "text": [
            "[[1, 4, 7], [2, 5, 8], [3, 6, 9]]\n"
          ]
        }
      ]
    },
    {
      "cell_type": "markdown",
      "source": [
        "# ANS 4"
      ],
      "metadata": {
        "id": "Q6ZQn9snVano"
      }
    },
    {
      "cell_type": "code",
      "source": [
        "def array_pair_sum(nums):\n",
        "    nums.sort()  # Sort the array in ascending order\n",
        "    pair_sum = 0\n",
        "\n",
        "    for i in range(0, len(nums), 2):\n",
        "        pair_sum += nums[i]\n",
        "\n",
        "    return pair_sum\n",
        "\n",
        "\n",
        "# Driver code\n",
        "nums = [1, 4, 3, 2]\n",
        "result = array_pair_sum(nums)\n",
        "print(result)"
      ],
      "metadata": {
        "colab": {
          "base_uri": "https://localhost:8080/"
        },
        "id": "06-XXhfZVX_D",
        "outputId": "d5357203-56c5-4a69-f87d-84de77c89ead"
      },
      "execution_count": 4,
      "outputs": [
        {
          "output_type": "stream",
          "name": "stdout",
          "text": [
            "4\n"
          ]
        }
      ]
    },
    {
      "cell_type": "markdown",
      "source": [
        "# ANS 5\n"
      ],
      "metadata": {
        "id": "Pb0JNecbVv6q"
      }
    },
    {
      "cell_type": "code",
      "source": [
        "import math\n",
        "\n",
        "def arrange_coins(n):\n",
        "    k = int(math.sqrt(2 * n))  # Calculate the maximum k (number of rows) using the formula\n",
        "    while (k * (k + 1)) // 2 > n:  # Adjust k if the number of coins is not sufficient for k rows\n",
        "        k -= 1\n",
        "    return k\n",
        "\n",
        "\n",
        "# Driver code\n",
        "n = 5\n",
        "result = arrange_coins(n)\n",
        "print(result)"
      ],
      "metadata": {
        "colab": {
          "base_uri": "https://localhost:8080/"
        },
        "id": "ypLmENuhVcrF",
        "outputId": "9692acf5-5875-4819-b4eb-3b42613dfb12"
      },
      "execution_count": 5,
      "outputs": [
        {
          "output_type": "stream",
          "name": "stdout",
          "text": [
            "2\n"
          ]
        }
      ]
    },
    {
      "cell_type": "markdown",
      "source": [
        "# ANS 6"
      ],
      "metadata": {
        "id": "YqvOV_4TV2Eu"
      }
    },
    {
      "cell_type": "code",
      "source": [
        "def sorted_squares(nums):\n",
        "    squared_nums = [num**2 for num in nums]  # Square each number in nums\n",
        "    squared_nums.sort()  # Sort the squared numbers in non-decreasing order\n",
        "    return squared_nums\n",
        "\n",
        "\n",
        "# Driver code\n",
        "nums = [-4, -1, 0, 3, 10]\n",
        "result = sorted_squares(nums)\n",
        "print(result)"
      ],
      "metadata": {
        "colab": {
          "base_uri": "https://localhost:8080/"
        },
        "id": "eNpPbCPTV1Jk",
        "outputId": "15310b2a-9736-44f8-b85e-0aabccd8eebd"
      },
      "execution_count": 6,
      "outputs": [
        {
          "output_type": "stream",
          "name": "stdout",
          "text": [
            "[0, 1, 9, 16, 100]\n"
          ]
        }
      ]
    },
    {
      "cell_type": "markdown",
      "source": [
        "# ANS 7"
      ],
      "metadata": {
        "id": "eM6OcvvYV7vG"
      }
    },
    {
      "cell_type": "code",
      "source": [
        "def max_count(m, n, ops):\n",
        "    min_a = m\n",
        "    min_b = n\n",
        "\n",
        "    for op in ops:\n",
        "        min_a = min(min_a, op[0])\n",
        "        min_b = min(min_b, op[1])\n",
        "\n",
        "    return min_a * min_b\n",
        "\n",
        "\n",
        "# Driver code\n",
        "m = 3\n",
        "n = 3\n",
        "ops = [[2, 2], [3, 3]]\n",
        "result = max_count(m, n, ops)\n",
        "print(result)"
      ],
      "metadata": {
        "colab": {
          "base_uri": "https://localhost:8080/"
        },
        "id": "0k1s_XANV66w",
        "outputId": "712b31b3-7851-4947-8573-6523ace65292"
      },
      "execution_count": 7,
      "outputs": [
        {
          "output_type": "stream",
          "name": "stdout",
          "text": [
            "4\n"
          ]
        }
      ]
    },
    {
      "cell_type": "markdown",
      "source": [
        "# ANS 8"
      ],
      "metadata": {
        "id": "YV98K5DMWUuz"
      }
    },
    {
      "cell_type": "code",
      "source": [
        "def shuffle_array(nums, n):\n",
        "    result = []\n",
        "\n",
        "    for i in range(n):\n",
        "        result.append(nums[i])\n",
        "        result.append(nums[i + n])\n",
        "\n",
        "    return result\n",
        "\n",
        "\n",
        "# Driver code\n",
        "nums = [2, 5, 1, 3, 4, 7]\n",
        "n = 3\n",
        "result = shuffle_array(nums, n)\n",
        "print(result)"
      ],
      "metadata": {
        "colab": {
          "base_uri": "https://localhost:8080/"
        },
        "id": "-bukrNpPV_ry",
        "outputId": "e8f8311d-bdf3-48ce-9a33-0bdca746af22"
      },
      "execution_count": 8,
      "outputs": [
        {
          "output_type": "stream",
          "name": "stdout",
          "text": [
            "[2, 3, 5, 4, 1, 7]\n"
          ]
        }
      ]
    },
    {
      "cell_type": "code",
      "source": [],
      "metadata": {
        "id": "-QuJ5nIHWWbs"
      },
      "execution_count": null,
      "outputs": []
    }
  ]
}