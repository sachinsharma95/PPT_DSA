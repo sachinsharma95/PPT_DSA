{
  "nbformat": 4,
  "nbformat_minor": 0,
  "metadata": {
    "colab": {
      "provenance": []
    },
    "kernelspec": {
      "name": "python3",
      "display_name": "Python 3"
    },
    "language_info": {
      "name": "python"
    }
  },
  "cells": [
    {
      "cell_type": "markdown",
      "source": [
        "# <center> DSA ASSIGNMENT 2"
      ],
      "metadata": {
        "id": "T8JHIcWDSj0u"
      }
    },
    {
      "cell_type": "code",
      "execution_count": 1,
      "metadata": {
        "colab": {
          "base_uri": "https://localhost:8080/"
        },
        "id": "OxxS3wepR2nW",
        "outputId": "9570a84b-1230-4fc0-9fbe-db40520bfff2"
      },
      "outputs": [
        {
          "output_type": "stream",
          "name": "stdout",
          "text": [
            "4\n"
          ]
        }
      ],
      "source": [
        "# ANS1\n",
        "\n",
        "def max_pair_sum(nums):\n",
        "  \"\"\"\n",
        "  Finds the maximum sum of min(ai, bi) for all i in the array nums.\n",
        "\n",
        "  Args:\n",
        "    nums: The array of integers.\n",
        "\n",
        "  Returns:\n",
        "    The maximum sum.\n",
        "  \"\"\"\n",
        "\n",
        "  nums.sort()\n",
        "  sum = 0\n",
        "  for i in range(0, len(nums), 2):\n",
        "    sum += nums[i]\n",
        "  return sum\n",
        "\n",
        "\n",
        "def main():\n",
        "  nums = [1, 4, 3, 2]\n",
        "  max_sum = max_pair_sum(nums)\n",
        "  print(max_sum)\n",
        "\n",
        "\n",
        "\n"
      ]
    },
    {
      "cell_type": "code",
      "source": [
        "# Ans 2\n",
        "\n",
        "from collections import Counter\n",
        "\n",
        "def maxTypesOfCandies(candyType):\n",
        "    n = len(candyType)\n",
        "    max_candies = n // 2\n",
        "\n",
        "    # Count the frequency of each candy type\n",
        "    count = Counter(candyType)\n",
        "\n",
        "    # Return the maximum number of different types of candies Alice can eat\n",
        "    return min(max_candies, len(count.keys()))\n",
        "\n",
        "# Driver code\n",
        "candyType = [1, 1, 2, 2, 3, 3]\n",
        "result = maxTypesOfCandies(candyType)\n",
        "print(\"Maximum number of different types of candies Alice can eat:\", result)\n"
      ],
      "metadata": {
        "id": "W0gIOPXcR999"
      },
      "execution_count": null,
      "outputs": []
    },
    {
      "cell_type": "code",
      "source": [
        "# Ans 3\n",
        "\n",
        "def findLHS(nums):\n",
        "    count = {}\n",
        "    longest_subsequence = 0\n",
        "\n",
        "    # Count the frequency of each number\n",
        "    for num in nums:\n",
        "        count[num] = count.get(num, 0) + 1\n",
        "\n",
        "    # Check each number and its adjacent number\n",
        "    for num in count:\n",
        "        if num + 1 in count:\n",
        "            longest_subsequence = max(longest_subsequence, count[num] + count[num + 1])\n",
        "\n",
        "    return longest_subsequence\n",
        "\n",
        "# Driver code\n",
        "nums = [1, 3, 2, 2, 5, 2, 3, 7]\n",
        "result = findLHS(nums)\n",
        "print(\"Length of the longest harmonious subsequence:\", result)\n"
      ],
      "metadata": {
        "colab": {
          "base_uri": "https://localhost:8080/"
        },
        "id": "v9CP1LSnSLcr",
        "outputId": "64973cfa-f73b-467e-9816-23ea1323b526"
      },
      "execution_count": 2,
      "outputs": [
        {
          "output_type": "stream",
          "name": "stdout",
          "text": [
            "Length of the longest harmonious subsequence: 5\n"
          ]
        }
      ]
    },
    {
      "cell_type": "code",
      "source": [
        "# Ans 4\n",
        "\n",
        "def canPlaceFlowers(flowerbed, n):\n",
        "    count = 0\n",
        "    i = 0\n",
        "    while i < len(flowerbed):\n",
        "        if flowerbed[i] == 0 and (i == 0 or flowerbed[i-1] == 0) and (i == len(flowerbed)-1 or flowerbed[i+1] == 0):\n",
        "            flowerbed[i] = 1\n",
        "            count += 1\n",
        "            if count >= n:\n",
        "                return True\n",
        "        i += 1\n",
        "    return False\n",
        "\n",
        "# Driver code\n",
        "flowerbed = [1, 0, 0, 0, 1]\n",
        "n = 1\n",
        "result = canPlaceFlowers(flowerbed, n)\n",
        "print( result)\n"
      ],
      "metadata": {
        "colab": {
          "base_uri": "https://localhost:8080/"
        },
        "id": "UAsRSJNeSM_N",
        "outputId": "4318c034-c6e8-40fa-9411-7584055980f4"
      },
      "execution_count": 3,
      "outputs": [
        {
          "output_type": "stream",
          "name": "stdout",
          "text": [
            "True\n"
          ]
        }
      ]
    },
    {
      "cell_type": "code",
      "source": [
        "# Ans 5\n",
        "\n",
        "\n",
        "\n",
        "def maximumProduct(nums):\n",
        "    nums.sort()  # Sort the array in ascending order\n",
        "\n",
        "    # The maximum product can be achieved by multiplying the last three elements\n",
        "    # (the largest elements) or the first two elements (if there are negative numbers)\n",
        "    return max(nums[-1] * nums[-2] * nums[-3], nums[0] * nums[1] * nums[-1])\n",
        "\n",
        "# Driver code\n",
        "nums = [1, 2, 3]\n",
        "result = maximumProduct(nums)\n",
        "print(\"Maximum product:\", result)\n"
      ],
      "metadata": {
        "colab": {
          "base_uri": "https://localhost:8080/"
        },
        "id": "Q48Y5-kUSX0Y",
        "outputId": "2bd59a27-35e2-4ed8-c602-7c981c04330e"
      },
      "execution_count": 4,
      "outputs": [
        {
          "output_type": "stream",
          "name": "stdout",
          "text": [
            "Maximum product: 6\n"
          ]
        }
      ]
    },
    {
      "cell_type": "code",
      "source": [
        "# Ans 6\n",
        "\n",
        "def binary_search(nums, target):\n",
        "  \"\"\"\n",
        "  Searches for target in the array nums.\n",
        "\n",
        "  Args:\n",
        "    nums: The array of integers.\n",
        "    target: The integer to search for.\n",
        "\n",
        "  Returns:\n",
        "    The index of target in nums, if it exists. Otherwise, -1.\n",
        "  \"\"\"\n",
        "\n",
        "  low = 0\n",
        "  high = len(nums) - 1\n",
        "  while low <= high:\n",
        "    mid = (low + high) // 2\n",
        "    if nums[mid] == target:\n",
        "      return mid\n",
        "    elif nums[mid] < target:\n",
        "      low = mid + 1\n",
        "    else:\n",
        "      high = mid - 1\n",
        "  return -1\n",
        "\n",
        "\n",
        "def main():\n",
        "  nums = [-1, 0, 3, 5, 9, 12]\n",
        "  target = 9\n",
        "  index = binary_search(nums, target)\n",
        "  print(index)\n",
        "\n",
        "\n",
        "if __name__ == \"__main__\":\n",
        "  main()\n"
      ],
      "metadata": {
        "colab": {
          "base_uri": "https://localhost:8080/"
        },
        "id": "HNv-wOApSazY",
        "outputId": "9465b775-a0cc-4ad9-e9fc-4f99161738c7"
      },
      "execution_count": 5,
      "outputs": [
        {
          "output_type": "stream",
          "name": "stdout",
          "text": [
            "4\n"
          ]
        }
      ]
    },
    {
      "cell_type": "code",
      "source": [
        "# ANS 7\n",
        "\n",
        "\n",
        "def is_monotonic(nums):\n",
        "  \"\"\"\n",
        "  Checks if the array nums is monotonic.\n",
        "\n",
        "  Args:\n",
        "    nums: The array of integers.\n",
        "\n",
        "  Returns:\n",
        "    True if the array is monotonic, False otherwise.\n",
        "  \"\"\"\n",
        "\n",
        "  increasing = True\n",
        "  decreasing = True\n",
        "  for i in range(1, len(nums)):\n",
        "    if nums[i] < nums[i - 1]:\n",
        "      increasing = False\n",
        "    elif nums[i] > nums[i - 1]:\n",
        "      decreasing = False\n",
        "  return increasing or decreasing\n",
        "\n",
        "\n",
        "def main():\n",
        "  nums = [1, 2, 2, 3]\n",
        "  is_monotonic_result = is_monotonic(nums)\n",
        "  print(is_monotonic_result)\n",
        "\n",
        "\n",
        "if __name__ == \"__main__\":\n",
        "  main()\n",
        "\n"
      ],
      "metadata": {
        "id": "SmBBHFjtSgH-"
      },
      "execution_count": null,
      "outputs": []
    },
    {
      "cell_type": "code",
      "source": [
        "# ANS 8\n",
        "\n",
        "def min_score(nums, k):\n",
        "  \"\"\"\n",
        "  Finds the minimum score of nums after applying the mentioned operation at most once for each index in it.\n",
        "\n",
        "  Args:\n",
        "    nums: The array of integers.\n",
        "    k: The maximum value of x.\n",
        "\n",
        "  Returns:\n",
        "    The minimum score of nums.\n",
        "  \"\"\"\n",
        "\n",
        "  min_val = nums[0]\n",
        "  max_val = nums[0]\n",
        "  for i in range(1, len(nums)):\n",
        "    min_val = min(min_val, nums[i] - k)\n",
        "    max_val = max(max_val, nums[i] + k)\n",
        "  return max_val - min_val\n",
        "\n",
        "\n",
        "def main():\n",
        "  nums = [1]\n",
        "  k = 0\n",
        "  min_score_result = min_score(nums, k)\n",
        "  print(min_score_result)\n",
        "\n",
        "\n",
        "if __name__ == \"__main__\":\n",
        "  main()\n"
      ],
      "metadata": {
        "colab": {
          "base_uri": "https://localhost:8080/"
        },
        "id": "WtYefKrJTQT3",
        "outputId": "1fb757b2-c1ee-441f-b995-eeb753e34058"
      },
      "execution_count": 6,
      "outputs": [
        {
          "output_type": "stream",
          "name": "stdout",
          "text": [
            "0\n"
          ]
        }
      ]
    },
    {
      "cell_type": "code",
      "source": [],
      "metadata": {
        "id": "LgYg6lYhTSKm"
      },
      "execution_count": null,
      "outputs": []
    }
  ]
}