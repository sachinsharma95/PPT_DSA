{
  "nbformat": 4,
  "nbformat_minor": 0,
  "metadata": {
    "colab": {
      "provenance": []
    },
    "kernelspec": {
      "name": "python3",
      "display_name": "Python 3"
    },
    "language_info": {
      "name": "python"
    }
  },
  "cells": [
    {
      "cell_type": "code",
      "execution_count": 1,
      "metadata": {
        "colab": {
          "base_uri": "https://localhost:8080/"
        },
        "id": "bO8sDC6BX8Jy",
        "outputId": "6de313da-42d3-4d6b-8fdd-a85e9e3a71bf"
      },
      "outputs": [
        {
          "output_type": "stream",
          "name": "stdout",
          "text": [
            "[0, 4, 1, 3, 2]\n"
          ]
        }
      ],
      "source": [
        "# Ans1\n",
        "\n",
        "def find_permutation(s):\n",
        "    n = len(s)\n",
        "    perm = [0] * (n + 1)\n",
        "    max_val = n\n",
        "    min_val = 0\n",
        "\n",
        "    for i in range(n):\n",
        "        if s[i] == 'I':\n",
        "            perm[i] = min_val\n",
        "            min_val += 1\n",
        "        else:\n",
        "            perm[i] = max_val\n",
        "            max_val -= 1\n",
        "\n",
        "    perm[n] = min_val  # Last element in the permutation\n",
        "\n",
        "    return perm\n",
        "\n",
        "# Driver code\n",
        "s = \"IDID\"\n",
        "perm = find_permutation(s)\n",
        "print(perm)\n"
      ]
    },
    {
      "cell_type": "code",
      "source": [
        "# ANS 2\n",
        "\n",
        "def searchMatrix(matrix, target):\n",
        "    if not matrix or not matrix[0]:\n",
        "        return False\n",
        "\n",
        "    m, n = len(matrix), len(matrix[0])\n",
        "    left, right = 0, m * n - 1\n",
        "\n",
        "    while left <= right:\n",
        "        mid = (left + right) // 2\n",
        "        num = matrix[mid // n][mid % n]\n",
        "\n",
        "        if num == target:\n",
        "            return True\n",
        "        elif num < target:\n",
        "            left = mid + 1\n",
        "        else:\n",
        "            right = mid - 1\n",
        "\n",
        "    return False\n",
        "\n",
        "# Driver code\n",
        "matrix = [\n",
        "    [1, 3, 5, 7],\n",
        "    [10, 11, 16, 20],\n",
        "    [23, 30, 34, 60]\n",
        "]\n",
        "target = 3\n",
        "print(searchMatrix(matrix, target))"
      ],
      "metadata": {
        "colab": {
          "base_uri": "https://localhost:8080/"
        },
        "id": "4ArO7wwRYEAn",
        "outputId": "3d06a7d7-460e-421a-b190-0956281dd2d7"
      },
      "execution_count": 2,
      "outputs": [
        {
          "output_type": "stream",
          "name": "stdout",
          "text": [
            "True\n"
          ]
        }
      ]
    },
    {
      "cell_type": "code",
      "source": [
        "# ANS 3\n",
        "\n",
        "def validMountainArray(arr):\n",
        "    n = len(arr)\n",
        "\n",
        "    if n < 3:\n",
        "        return False\n",
        "\n",
        "    peak_index = arr.index(max(arr))\n",
        "\n",
        "    if peak_index == 0 or peak_index == n - 1:\n",
        "        return False\n",
        "\n",
        "    for i in range(peak_index):\n",
        "        if arr[i] >= arr[i + 1]:\n",
        "            return False\n",
        "\n",
        "    for i in range(peak_index, n - 1):\n",
        "        if arr[i] <= arr[i + 1]:\n",
        "            return False\n",
        "\n",
        "    return True\n",
        "\n",
        "# Driver code\n",
        "arr = [2, 1]\n",
        "print(validMountainArray(arr))\n"
      ],
      "metadata": {
        "colab": {
          "base_uri": "https://localhost:8080/"
        },
        "id": "4SGUh7LVYHoj",
        "outputId": "aee6becd-7e7c-44f9-d126-dc89a3896046"
      },
      "execution_count": 3,
      "outputs": [
        {
          "output_type": "stream",
          "name": "stdout",
          "text": [
            "False\n"
          ]
        }
      ]
    },
    {
      "cell_type": "code",
      "source": [
        "# ANS 4\n",
        "\n",
        "\n",
        "def findMaxLength(nums):\n",
        "    count = 0\n",
        "    max_length = 0\n",
        "    count_dict = {0: -1}\n",
        "\n",
        "    for i in range(len(nums)):\n",
        "        if nums[i] == 0:\n",
        "            count -= 1\n",
        "        else:\n",
        "            count += 1\n",
        "\n",
        "        if count in count_dict:\n",
        "            max_length = max(max_length, i - count_dict[count])\n",
        "        else:\n",
        "            count_dict[count] = i\n",
        "\n",
        "    return max_length\n",
        "\n",
        "# Driver code\n",
        "nums = [0, 1]\n",
        "print(findMaxLength(nums))\n"
      ],
      "metadata": {
        "colab": {
          "base_uri": "https://localhost:8080/"
        },
        "id": "PrWH841JYMPA",
        "outputId": "473dcf59-0a79-4cb0-bb32-8046db6b6c34"
      },
      "execution_count": 8,
      "outputs": [
        {
          "output_type": "stream",
          "name": "stdout",
          "text": [
            "2\n"
          ]
        }
      ]
    },
    {
      "cell_type": "code",
      "source": [
        "# Ans 5\n",
        "\n",
        "def minProductSum(nums1, nums2):\n",
        "    nums1.sort()\n",
        "    nums2.sort(reverse=True)\n",
        "\n",
        "    n = len(nums1)\n",
        "    min_product_sum = sum(nums1[i] * nums2[i] for i in range(n))\n",
        "\n",
        "    return min_product_sum\n",
        "\n",
        "# Driver code\n",
        "nums1 = [5, 3, 4, 2]\n",
        "nums2 = [4, 2, 2, 5]\n",
        "print(minProductSum(nums1, nums2))\n"
      ],
      "metadata": {
        "colab": {
          "base_uri": "https://localhost:8080/"
        },
        "id": "LlLItuVTYTLI",
        "outputId": "73462b86-e8d5-4b54-a93b-8983f02530d1"
      },
      "execution_count": 4,
      "outputs": [
        {
          "output_type": "stream",
          "name": "stdout",
          "text": [
            "40\n"
          ]
        }
      ]
    },
    {
      "cell_type": "code",
      "source": [
        "# Ans 6\n",
        "\n",
        "from collections import Counter\n",
        "\n",
        "def findOriginalArray(changed):\n",
        "    counter = Counter(changed)\n",
        "    res = []\n",
        "    for k in counter.keys():\n",
        "\n",
        "        if k == 0:\n",
        "            # handle zero as special case\n",
        "            if counter[k] % 2 > 0:\n",
        "                return []\n",
        "            res += [0] * (counter[k] // 2)\n",
        "\n",
        "        elif counter[k] > 0:\n",
        "            x = k\n",
        "\n",
        "            # walk down the chain\n",
        "            while x % 2 == 0 and x // 2 in counter:\n",
        "                x = x // 2\n",
        "\n",
        "            # walk up and process all numbers within the chain. mark the counts as 0\n",
        "            while x in counter:\n",
        "                if counter[x] > 0:\n",
        "                    res += [x] * counter[x]\n",
        "                    if counter[x+x] < counter[x]:\n",
        "                        return []\n",
        "                    counter[x+x] -= counter[x]\n",
        "                    counter[x] = 0\n",
        "                x += x\n",
        "    return res\n",
        "\n",
        "changed = [1, 3, 4, 2, 6, 8]\n",
        "original = findOriginalArray(changed)\n",
        "print(original)"
      ],
      "metadata": {
        "colab": {
          "base_uri": "https://localhost:8080/"
        },
        "id": "efFkm9YUYWvD",
        "outputId": "28298d78-7aaf-4f37-9ab4-cc0d23744c5e"
      },
      "execution_count": 5,
      "outputs": [
        {
          "output_type": "stream",
          "name": "stdout",
          "text": [
            "[1, 4, 3]\n"
          ]
        }
      ]
    },
    {
      "cell_type": "code",
      "source": [
        "# ANS 7\n",
        "\n",
        "def generateMatrix(n):\n",
        "    matrix = [[0] * n for _ in range(n)]\n",
        "    num = 1\n",
        "    top = 0\n",
        "    bottom = n - 1\n",
        "    left = 0\n",
        "    right = n - 1\n",
        "\n",
        "    while num <= n * n:\n",
        "        # Traverse from left to right\n",
        "        for i in range(left, right + 1):\n",
        "            matrix[top][i] = num\n",
        "            num += 1\n",
        "        top += 1\n",
        "\n",
        "        # Traverse from top to bottom\n",
        "        for i in range(top, bottom + 1):\n",
        "            matrix[i][right] = num\n",
        "            num += 1\n",
        "        right -= 1\n",
        "\n",
        "        # Traverse from right to left\n",
        "        for i in range(right, left - 1, -1):\n",
        "            matrix[bottom][i] = num\n",
        "            num += 1\n",
        "        bottom -= 1\n",
        "\n",
        "        # Traverse from bottom to top\n",
        "        for i in range(bottom, top - 1, -1):\n",
        "            matrix[i][left] = num\n",
        "            num += 1\n",
        "        left += 1\n",
        "\n",
        "    return matrix\n",
        "\n",
        "# Driver code\n",
        "n = 3\n",
        "result = generateMatrix(n)\n",
        "for row in result:\n",
        "    print(row)"
      ],
      "metadata": {
        "colab": {
          "base_uri": "https://localhost:8080/"
        },
        "id": "v4SIMEZaYbVi",
        "outputId": "47846826-026e-49c3-d62a-20f1f518e7d4"
      },
      "execution_count": 6,
      "outputs": [
        {
          "output_type": "stream",
          "name": "stdout",
          "text": [
            "[1, 2, 3]\n",
            "[8, 9, 4]\n",
            "[7, 6, 5]\n"
          ]
        }
      ]
    },
    {
      "cell_type": "code",
      "source": [
        "# ANS 8\n",
        "\n",
        "\n",
        "def multiply(mat1, mat2):\n",
        "    m, k = len(mat1), len(mat1[0])\n",
        "    n = len(mat2[0])\n",
        "\n",
        "    result = [[0] * n for _ in range(m)]\n",
        "\n",
        "    for i in range(m):\n",
        "        for j in range(n):\n",
        "            for p in range(k):\n",
        "                result[i][j] += mat1[i][p] * mat2[p][j]\n",
        "\n",
        "    return result\n",
        "\n",
        "# Driver code\n",
        "mat1 = [[1, 0, 0], [-1, 0, 3]]\n",
        "mat2 = [[7, 0, 0], [0, 0, 0], [0, 0, 1]]\n",
        "result = multiply(mat1, mat2)\n",
        "for row in result:\n",
        "    print(row)\n"
      ],
      "metadata": {
        "colab": {
          "base_uri": "https://localhost:8080/"
        },
        "id": "h_YQXuGlYehP",
        "outputId": "98c6d4f4-618c-4d01-fa5d-0b68e38daf86"
      },
      "execution_count": 7,
      "outputs": [
        {
          "output_type": "stream",
          "name": "stdout",
          "text": [
            "[7, 0, 0]\n",
            "[-7, 0, 3]\n"
          ]
        }
      ]
    },
    {
      "cell_type": "code",
      "source": [],
      "metadata": {
        "id": "MVeqtHn6YiqC"
      },
      "execution_count": null,
      "outputs": []
    }
  ]
}