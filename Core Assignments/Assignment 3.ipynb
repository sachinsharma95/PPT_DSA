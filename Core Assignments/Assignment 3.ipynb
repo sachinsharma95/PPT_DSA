{
  "nbformat": 4,
  "nbformat_minor": 0,
  "metadata": {
    "colab": {
      "provenance": []
    },
    "kernelspec": {
      "name": "python3",
      "display_name": "Python 3"
    },
    "language_info": {
      "name": "python"
    }
  },
  "cells": [
    {
      "cell_type": "code",
      "execution_count": 1,
      "metadata": {
        "colab": {
          "base_uri": "https://localhost:8080/"
        },
        "id": "VxkfR2CbMoJT",
        "outputId": "6e8c71c1-26f4-458e-edc8-85d2d538d402"
      },
      "outputs": [
        {
          "output_type": "stream",
          "name": "stdout",
          "text": [
            "Mean sales for Region A: 11.8\n",
            "Mean sales for Region B: 20.2\n"
          ]
        }
      ],
      "source": [
        "#Ans no1\n",
        "\n",
        "# Sales data for each region\n",
        "region_a_sales = [10, 15, 12, 8, 14]\n",
        "region_b_sales = [18, 20, 16, 22, 25]\n",
        "\n",
        "# Calculate the mean sales for Region A\n",
        "mean_region_a = sum(region_a_sales) / len(region_a_sales)\n",
        "\n",
        "# Calculate the mean sales for Region B\n",
        "mean_region_b = sum(region_b_sales) / len(region_b_sales)\n",
        "\n",
        "# Print the mean sales for each region\n",
        "print(\"Mean sales for Region A:\", mean_region_a)\n",
        "print(\"Mean sales for Region B:\", mean_region_b)\n"
      ]
    },
    {
      "cell_type": "code",
      "source": [
        "#Ans no2\n",
        "import statistics\n",
        "\n",
        "# Survey responses\n",
        "survey = [4, 5, 2, 3, 5, 4, 3, 2, 4, 5]\n",
        "count={}\n",
        "# for i in survey:\n",
        "#   if i in count:\n",
        "#     count[i]+=1\n",
        "#   else:\n",
        "#     count[i]=1\n",
        "\n",
        "# print(count)\n",
        "\n",
        "# Calculate the mode of the survey responses\n",
        "mode = statistics.mode(survey)\n",
        "\n",
        "# Print the mode\n",
        "print(\"Mode of the survey responses:\", mode)\n"
      ],
      "metadata": {
        "colab": {
          "base_uri": "https://localhost:8080/"
        },
        "id": "VLhrzVRaNat3",
        "outputId": "278fd62c-e074-4b0d-eeee-3e482a29b3fa"
      },
      "execution_count": 18,
      "outputs": [
        {
          "output_type": "stream",
          "name": "stdout",
          "text": [
            "Mode of the survey responses: 4\n"
          ]
        }
      ]
    },
    {
      "cell_type": "code",
      "source": [
        "#Ans no3\n",
        "# Salary data for each department\n",
        "import statistics as st\n",
        "department_a_salaries = [5000, 6000, 5500, 7000]\n",
        "department_b_salaries = [4500, 5500, 5800, 6000, 5200]\n",
        "\n",
        "# Calculate the median salary for Department A\n",
        "sorted_department_a_salaries = sorted(department_a_salaries)\n",
        "middle_index_a = len(sorted_department_a_salaries) // 2\n",
        "median_a = sorted_department_a_salaries[middle_index_a]\n",
        "\n",
        "# Calculate the median salary for Department B\n",
        "sorted_department_b_salaries = sorted(department_b_salaries)\n",
        "middle_index_b = len(sorted_department_b_salaries) // 2\n",
        "median_b = sorted_department_b_salaries[middle_index_b]\n",
        "\n",
        "# Print the median salary for each department\n",
        "print(\"Median salary for Department A:\", median_a)\n",
        "print(\"Median salary for Department B:\", median_b)\n",
        "\n",
        "\n"
      ],
      "metadata": {
        "colab": {
          "base_uri": "https://localhost:8080/"
        },
        "id": "WipI7GVAQxFE",
        "outputId": "c45d1abd-7f4d-4edf-9c81-84e01026edfb"
      },
      "execution_count": 22,
      "outputs": [
        {
          "output_type": "stream",
          "name": "stdout",
          "text": [
            "Median salary for Department A: 6000\n",
            "Median salary for Department B: 5500\n"
          ]
        }
      ]
    },
    {
      "cell_type": "code",
      "source": [
        "#Ans no4\n",
        "# Stock prices\n",
        "stock_prices = [25.5, 24.8, 26.1, 25.3, 24.9]\n",
        "\n",
        "# Calculate the range of the stock prices\n",
        "price_range = max(stock_prices) - min(stock_prices)\n",
        "\n",
        "# Print the range of the stock prices\n",
        "print(\"Range of the stock prices:\", price_range)\n"
      ],
      "metadata": {
        "colab": {
          "base_uri": "https://localhost:8080/"
        },
        "id": "1jyuxQ8dQzdD",
        "outputId": "36156f46-f41b-40cb-b6d4-dc4c1769c175"
      },
      "execution_count": 4,
      "outputs": [
        {
          "output_type": "stream",
          "name": "stdout",
          "text": [
            "Range of the stock prices: 1.3000000000000007\n"
          ]
        }
      ]
    },
    {
      "cell_type": "code",
      "source": [
        "#Ans no5\n",
        "from scipy import stats\n",
        "\n",
        "# Test scores of Group A and Group B\n",
        "group_a = [85, 90, 92, 88, 91]\n",
        "group_b = [82, 88, 90, 86, 87]\n",
        "\n",
        "# Perform t-test\n",
        "t_statistic, p_value = stats.ttest_ind(group_a, group_b)\n",
        "\n",
        "# Print the t-statistic and p-value\n",
        "print(\"T-Statistic:\", t_statistic)\n",
        "print(\"P-Value:\", p_value)\n",
        "\n"
      ],
      "metadata": {
        "colab": {
          "base_uri": "https://localhost:8080/"
        },
        "id": "1eiWZ2YnQ_NF",
        "outputId": "bf3dbb6b-352b-4616-e373-2d464883658a"
      },
      "execution_count": 23,
      "outputs": [
        {
          "output_type": "stream",
          "name": "stdout",
          "text": [
            "T-Statistic: 1.4312528946642733\n",
            "P-Value: 0.19023970239078333\n"
          ]
        }
      ]
    },
    {
      "cell_type": "code",
      "source": [
        "#Ans no6\n",
        "import numpy as np\n",
        "\n",
        "# Advertising expenditure and sales data\n",
        "advertising_expenditure = [10, 15, 12, 8, 14]\n",
        "sales = [25, 30, 28, 20, 26]\n",
        "\n",
        "# Calculate the correlation coefficient\n",
        "correlation_coefficient = np.corrcoef(advertising_expenditure, sales)[0, 1]\n",
        "\n",
        "# Print the correlation coefficient\n",
        "print(\"Correlation Coefficient:\", correlation_coefficient)\n",
        "\n"
      ],
      "metadata": {
        "colab": {
          "base_uri": "https://localhost:8080/"
        },
        "id": "jKkP7dolRJjp",
        "outputId": "2e3880fd-f5ac-44a3-9686-30e3fab53789"
      },
      "execution_count": 26,
      "outputs": [
        {
          "output_type": "stream",
          "name": "stdout",
          "text": [
            "Correlation Coefficient: 0.8757511375750132\n"
          ]
        }
      ]
    },
    {
      "cell_type": "code",
      "source": [
        "#Ans no7\n",
        "import numpy as np\n",
        "\n",
        "# Heights data\n",
        "heights = [160, 170, 165, 155, 175, 180, 170]\n",
        "\n",
        "# Calculate the standard deviation\n",
        "std_deviation = np.std(heights)\n",
        "\n",
        "# Print the standard deviation\n",
        "print(\"Standard Deviation:\", std_deviation)\n"
      ],
      "metadata": {
        "colab": {
          "base_uri": "https://localhost:8080/"
        },
        "id": "zagyWAkTRTE-",
        "outputId": "221babc3-0a59-40a6-d3de-2d797335bf2f"
      },
      "execution_count": 25,
      "outputs": [
        {
          "output_type": "stream",
          "name": "stdout",
          "text": [
            "Standard Deviation: 7.953949089757174\n"
          ]
        }
      ]
    },
    {
      "cell_type": "code",
      "source": [
        "#Ans no9\n",
        "import scipy.stats as stats\n",
        "\n",
        "# Recovery times data for each medication\n",
        "medication_a = [10, 12, 14, 11, 13]\n",
        "medication_b = [15, 17, 16, 14, 18]\n",
        "\n",
        "# Perform ANOVA\n",
        "f_value, p_value = stats.f_oneway(medication_a, medication_b)\n",
        "\n",
        "# Print the results\n",
        "print(\"ANOVA results:\")\n",
        "print(\"F-value:\", f_value)\n",
        "print(\"p-value:\", p_value)\n",
        "\n",
        "# Interpret the results\n",
        "alpha = 0.05  # Significance level\n",
        "\n",
        "if p_value < alpha:\n",
        "    print(\"There is a significant difference in the mean recovery times between the two medications.\")\n",
        "else:\n",
        "    print(\"There is no significant difference in the mean recovery times between the two medications.\")\n",
        "\n"
      ],
      "metadata": {
        "colab": {
          "base_uri": "https://localhost:8080/"
        },
        "id": "rViTvblXReaV",
        "outputId": "b3c593cb-b95c-4f74-9627-c13edf83f83c"
      },
      "execution_count": 8,
      "outputs": [
        {
          "output_type": "stream",
          "name": "stdout",
          "text": [
            "ANOVA results:\n",
            "F-value: 16.0\n",
            "p-value: 0.003949772803445326\n",
            "There is a significant difference in the mean recovery times between the two medications.\n"
          ]
        }
      ]
    },
    {
      "cell_type": "code",
      "source": [
        "#Ans no10\n",
        "import numpy as np\n",
        "\n",
        "# Feedback ratings data\n",
        "feedback_ratings = [8, 9, 7, 6, 8, 10, 9, 8, 7, 8]\n",
        "\n",
        "# Calculate the 75th percentile of the feedback ratings\n",
        "percentile_75 = np.percentile(feedback_ratings, 75)\n",
        "\n",
        "# Print the 75th percentile\n",
        "print(\"75th percentile of the feedback ratings:\", percentile_75)\n"
      ],
      "metadata": {
        "colab": {
          "base_uri": "https://localhost:8080/"
        },
        "id": "9QRjw3ibRpKr",
        "outputId": "9f93de46-05ca-4a53-babe-c90d636e30db"
      },
      "execution_count": 9,
      "outputs": [
        {
          "output_type": "stream",
          "name": "stdout",
          "text": [
            "75th percentile of the feedback ratings: 8.75\n"
          ]
        }
      ]
    },
    {
      "cell_type": "code",
      "source": [
        "#Ans no11\n",
        "from scipy import stats\n",
        "\n",
        "# Weights of the sample products\n",
        "weights = [10.2, 9.8, 10.0, 10.5, 10.3, 10.1]\n",
        "\n",
        "# Perform one-sample t-test\n",
        "t_statistic, p_value = stats.ttest_1samp(weights, 10)\n",
        "\n",
        "# Print the t-statistic and p-value\n",
        "print(\"T-Statistic:\", t_statistic)\n",
        "print(\"P-Value:\", p_value)\n"
      ],
      "metadata": {
        "colab": {
          "base_uri": "https://localhost:8080/"
        },
        "id": "vCmk-cA2RxWg",
        "outputId": "fa253b57-f1ab-4b5c-a613-8e367f2bc78b"
      },
      "execution_count": 27,
      "outputs": [
        {
          "output_type": "stream",
          "name": "stdout",
          "text": [
            "T-Statistic: 1.5126584522688367\n",
            "P-Value: 0.19077595151110102\n"
          ]
        }
      ]
    },
    {
      "cell_type": "code",
      "source": [
        "#Ans no12\n",
        "from scipy import stats\n",
        "import numpy as np\n",
        "\n",
        "# Click-through rates of Design A and Design B\n",
        "design_a = [100, 120, 110, 90, 95]\n",
        "design_b = [80, 85, 90, 95, 100]\n",
        "\n",
        "# Create the observed frequency table\n",
        "observed = np.array([design_a, design_b])\n",
        "\n",
        "# Perform chi-square test\n",
        "chi2_statistic, p_value = stats.chisquare(observed)\n",
        "\n",
        "# Print the chi-square statistic and p-value\n",
        "print(\"Chi-square Statistic:\", chi2_statistic)\n",
        "print(\"P-Value:\", p_value)\n"
      ],
      "metadata": {
        "colab": {
          "base_uri": "https://localhost:8080/"
        },
        "id": "eHek_HnHgD5U",
        "outputId": "a55c9736-9d77-4c8e-a8db-9ebf2a9f2d21"
      },
      "execution_count": 28,
      "outputs": [
        {
          "output_type": "stream",
          "name": "stdout",
          "text": [
            "Chi-square Statistic: [2.22222222 5.97560976 2.         0.13513514 0.12820513]\n",
            "P-Value: [0.13603713 0.01450507 0.15729921 0.71316606 0.72030033]\n"
          ]
        }
      ]
    },
    {
      "cell_type": "code",
      "source": [
        "#Ans no13\n",
        "from scipy import stats\n",
        "import numpy as np\n",
        "\n",
        "# Customer satisfaction data\n",
        "satisfaction_scores = [7, 9, 6, 8, 10, 7, 8, 9, 7, 8]\n",
        "\n",
        "# Calculate the mean and standard deviation\n",
        "mean = np.mean(satisfaction_scores)\n",
        "std_dev = np.std(satisfaction_scores, ddof=1)  # ddof=1 for sample standard deviation\n",
        "\n",
        "# Calculate the sample size\n",
        "sample_size = len(satisfaction_scores)\n",
        "\n",
        "# Calculate the standard error\n",
        "std_error = std_dev / np.sqrt(sample_size)\n",
        "\n",
        "# Calculate the t-value for the 95% confidence level\n",
        "t_value = stats.t.ppf(0.975, df=sample_size - 1)\n",
        "\n",
        "# Calculate the confidence interval\n",
        "lower_bound = mean - t_value * std_error\n",
        "upper_bound = mean + t_value * std_error\n",
        "\n",
        "# Print the confidence interval\n",
        "print(\"Confidence Interval (95%):\", (lower_bound, upper_bound))\n"
      ],
      "metadata": {
        "colab": {
          "base_uri": "https://localhost:8080/"
        },
        "id": "ZMH9bN1sgMcM",
        "outputId": "f9ee5736-9971-4738-c6dc-f2b5c5a8425c"
      },
      "execution_count": 29,
      "outputs": [
        {
          "output_type": "stream",
          "name": "stdout",
          "text": [
            "Confidence Interval (95%): (7.043561120599888, 8.756438879400113)\n"
          ]
        }
      ]
    },
    {
      "cell_type": "code",
      "source": [
        "#Ans no14\n",
        "\n",
        "from sklearn.linear_model import LinearRegression\n",
        "import numpy as np\n",
        "\n",
        "# Temperature and performance data\n",
        "temperature = np.array([20, 22, 23, 19, 21]).reshape(-1, 1)\n",
        "performance = np.array([8, 7, 9, 6, 8])\n",
        "\n",
        "# Create a linear regression model\n",
        "model = LinearRegression()\n",
        "\n",
        "# Fit the model using the data\n",
        "model.fit(temperature, performance)\n",
        "\n",
        "# Predict performance based on temperature\n",
        "predicted_performance = model.predict(temperature)\n",
        "\n",
        "# Print the coefficient and intercept of the linear regression model\n",
        "print(\"Coefficient:\", model.coef_[0])\n",
        "print(\"Intercept:\", model.intercept_)\n",
        "\n",
        "# Print the predicted performance values\n",
        "print(\"Predicted Performance:\", predicted_performance)\n"
      ],
      "metadata": {
        "colab": {
          "base_uri": "https://localhost:8080/"
        },
        "id": "KT7UYk2sgTaN",
        "outputId": "db06da2b-bfe0-40b4-8743-3299b02a91ad"
      },
      "execution_count": 30,
      "outputs": [
        {
          "output_type": "stream",
          "name": "stdout",
          "text": [
            "Coefficient: 0.4999999999999999\n",
            "Intercept: -2.8999999999999986\n",
            "Predicted Performance: [7.1 8.1 8.6 6.6 7.6]\n"
          ]
        }
      ]
    },
    {
      "cell_type": "code",
      "source": [
        "#Ans no15\n",
        "from scipy import stats\n",
        "\n",
        "# Preferences of Group A and Group B\n",
        "group_a = [4, 3, 5, 2, 4]\n",
        "group_b = [3, 2, 4, 3, 3]\n",
        "\n",
        "# Perform Mann-Whitney U test\n",
        "u_statistic, p_value = stats.mannwhitneyu(group_a, group_b)\n",
        "\n",
        "# Print the U-statistic and p-value\n",
        "print(\"U-Statistic:\", u_statistic)\n",
        "print(\"P-Value:\", p_value)\n",
        "\n"
      ],
      "metadata": {
        "colab": {
          "base_uri": "https://localhost:8080/"
        },
        "id": "fPg2wvc_hISh",
        "outputId": "ff2f2e04-04a0-4162-ac88-76cf95a7720a"
      },
      "execution_count": 31,
      "outputs": [
        {
          "output_type": "stream",
          "name": "stdout",
          "text": [
            "U-Statistic: 17.0\n",
            "P-Value: 0.380836480306712\n"
          ]
        }
      ]
    },
    {
      "cell_type": "code",
      "source": [
        "#Ans no16\n",
        "import numpy as np\n",
        "\n",
        "# Customer age data\n",
        "ages = [25, 30, 35, 40, 45, 50, 55, 60, 65, 70]\n",
        "\n",
        "# Calculate the 1st quartile (Q1)\n",
        "q1 = np.percentile(ages, 25)\n",
        "\n",
        "# Calculate the 3rd quartile (Q3)\n",
        "q3 = np.percentile(ages, 75)\n",
        "\n",
        "# Calculate the interquartile range (IQR)\n",
        "iqr = q3 - q1\n",
        "\n",
        "# Print the interquartile range\n",
        "print(\"Interquartile Range (IQR):\", iqr)\n",
        "\n"
      ],
      "metadata": {
        "colab": {
          "base_uri": "https://localhost:8080/"
        },
        "id": "CzB-yiiShPMr",
        "outputId": "57894e0d-4c43-4a17-a4fe-07bbeabc110f"
      },
      "execution_count": 32,
      "outputs": [
        {
          "output_type": "stream",
          "name": "stdout",
          "text": [
            "Interquartile Range (IQR): 22.5\n"
          ]
        }
      ]
    },
    {
      "cell_type": "code",
      "source": [
        "# Ans no17\n",
        "from scipy import stats\n",
        "\n",
        "# Accuracy scores for Algorithm A, Algorithm B, and Algorithm C\n",
        "algorithm_a = [0.85, 0.80, 0.82, 0.87, 0.83]\n",
        "algorithm_b = [0.78, 0.82, 0.84, 0.80, 0.79]\n",
        "algorithm_c = [0.90, 0.88, 0.89, 0.86, 0.87]\n",
        "\n",
        "# Perform Kruskal-Wallis test\n",
        "h_statistic, p_value = stats.kruskal(algorithm_a, algorithm_b, algorithm_c)\n",
        "\n",
        "# Print the H-statistic and p-value\n",
        "print(\"H-Statistic:\", h_statistic)\n",
        "print(\"P-Value:\", p_value)\n"
      ],
      "metadata": {
        "colab": {
          "base_uri": "https://localhost:8080/"
        },
        "id": "RXeKxXXjhaPl",
        "outputId": "356f3250-e177-4823-c006-fbde5d16c226"
      },
      "execution_count": 37,
      "outputs": [
        {
          "output_type": "stream",
          "name": "stdout",
          "text": [
            "H-Statistic: 9.696947935368053\n",
            "P-Value: 0.007840333026249539\n"
          ]
        }
      ]
    },
    {
      "cell_type": "code",
      "source": [
        "# Ans no18\n",
        "from sklearn.linear_model import LinearRegression\n",
        "import numpy as np\n",
        "\n",
        "# Price and sales data\n",
        "price = np.array([10, 15, 12, 8, 14]).reshape(-1, 1)\n",
        "sales = np.array([100, 80, 90, 110, 95])\n",
        "\n",
        "# Create a linear regression model\n",
        "model = LinearRegression()\n",
        "\n",
        "# Fit the model using the data\n",
        "model.fit(price, sales)\n",
        "\n",
        "# Predict sales based on price\n",
        "predicted_sales = model.predict(price)\n",
        "\n",
        "# Print the coefficient and intercept of the linear regression model\n",
        "print(\"Coefficient:\", model.coef_[0])\n",
        "print(\"Intercept:\", model.intercept_)\n",
        "\n",
        "# Print the predicted sales values\n",
        "print(\"Predicted Sales:\", predicted_sales)\n"
      ],
      "metadata": {
        "colab": {
          "base_uri": "https://localhost:8080/"
        },
        "id": "MLHNCA6ohigI",
        "outputId": "bbe588d8-0f48-4374-b9e7-9a405757ffc0"
      },
      "execution_count": 34,
      "outputs": [
        {
          "output_type": "stream",
          "name": "stdout",
          "text": [
            "Coefficient: -3.5060975609756095\n",
            "Intercept: 136.3719512195122\n",
            "Predicted Sales: [101.31097561  83.7804878   94.29878049 108.32317073  87.28658537]\n"
          ]
        }
      ]
    },
    {
      "cell_type": "code",
      "source": [
        "#Ans no19\n",
        "\n",
        "import numpy as np\n",
        "\n",
        "# Customer satisfaction data\n",
        "satisfaction_scores = [7, 8, 9, 6, 8, 7, 9, 7, 8, 7]\n",
        "\n",
        "# Calculate the standard deviation\n",
        "std_dev = np.std(satisfaction_scores, ddof=1)  # ddof=1 for sample standard deviation\n",
        "\n",
        "# Calculate the sample size\n",
        "sample_size = len(satisfaction_scores)\n",
        "\n",
        "# Calculate the standard error of the mean\n",
        "std_error = std_dev / np.sqrt(sample_size)\n",
        "\n",
        "# Print the standard error of the mean\n",
        "print(\"Standard Error of the Mean:\", std_error)\n"
      ],
      "metadata": {
        "colab": {
          "base_uri": "https://localhost:8080/"
        },
        "id": "YEyPnc1Vh7-v",
        "outputId": "628116c3-881b-40a7-91c3-320564f32648"
      },
      "execution_count": 35,
      "outputs": [
        {
          "output_type": "stream",
          "name": "stdout",
          "text": [
            "Standard Error of the Mean: 0.30550504633038933\n"
          ]
        }
      ]
    },
    {
      "cell_type": "code",
      "source": [
        "#Ans no20\n",
        "import statsmodels.api as sm\n",
        "import pandas as pd\n",
        "\n",
        "# Advertising expenditure and sales data\n",
        "advertising_expenditure = [10, 15, 12, 8, 14]\n",
        "sales = [25, 30, 28, 20, 26]\n",
        "\n",
        "# Create a dataframe from the data\n",
        "data = pd.DataFrame({'Advertising Expenditure': advertising_expenditure, 'Sales': sales})\n",
        "\n",
        "# Add a constant term to the data\n",
        "data = sm.add_constant(data)\n",
        "\n",
        "# Create the predictor variables (X) and the target variable (y)\n",
        "X = data[['const', 'Advertising Expenditure']]\n",
        "y = data['Sales']\n",
        "\n",
        "# Create the multiple regression model\n",
        "model = sm.OLS(y, X)\n",
        "\n",
        "# Fit the model using the data\n",
        "results = model.fit()\n",
        "\n",
        "# Print the regression coefficients\n",
        "print(results.params)\n"
      ],
      "metadata": {
        "colab": {
          "base_uri": "https://localhost:8080/"
        },
        "id": "-FvG8hJJiINv",
        "outputId": "d3178d35-44c3-43d0-d845-0b810a87a623"
      },
      "execution_count": 36,
      "outputs": [
        {
          "output_type": "stream",
          "name": "stdout",
          "text": [
            "const                      12.201220\n",
            "Advertising Expenditure     1.152439\n",
            "dtype: float64\n"
          ]
        }
      ]
    }
  ]
}